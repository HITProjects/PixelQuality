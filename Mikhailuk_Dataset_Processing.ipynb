{
  "nbformat": 4,
  "nbformat_minor": 0,
  "metadata": {
    "colab": {
      "provenance": []
    },
    "kernelspec": {
      "name": "python3",
      "display_name": "Python 3"
    },
    "language_info": {
      "name": "python"
    }
  },
  "cells": [
    {
      "cell_type": "code",
      "execution_count": 65,
      "metadata": {
        "id": "6Ri827XaPsc_"
      },
      "outputs": [],
      "source": [
        "import os\n",
        "import random\n",
        "import json\n",
        "import numpy as np\n",
        "from PIL import Image\n",
        "import matplotlib.pyplot as plt\n",
        "from google.colab import files"
      ]
    },
    {
      "cell_type": "code",
      "source": [
        "# ================== CONFIG ==================\n",
        "from google.colab import drive\n",
        "drive.mount('/content/drive')\n",
        "\n",
        "# Install pv for progress visualization\n",
        "!apt-get -qq install unrar pv\n",
        "\n",
        "# Create target directory\n",
        "!mkdir -p /content/tid2013\n",
        "\n",
        "# Extract with progress bar (quiet mode for unrar, pv shows progress)\n",
        "!unrar x -y -idq \"/content/drive/MyDrive/Samsung_Datasets/tid2013.rar\" /content/tid2013/ | pv -l >/dev/null\n",
        "\n",
        "DATASET_PATH = \"/content/tid2013\"\n",
        "REF_PATH = os.path.join(DATASET_PATH, \"reference_images\")\n",
        "DIST_PATH = os.path.join(DATASET_PATH, \"distorted_images\")\n",
        "MOS_FILE = os.path.join(DATASET_PATH, \"mos_with_names.txt\")\n",
        "OUTPUT_PATH = \"/content/tid2013_patches\"\n",
        "PATCHES_DIR = os.path.join(OUTPUT_PATH, \"patches\")\n",
        "\n",
        "NUM_SAMPLES = 1000\n",
        "PATCH_SIZE = 20\n",
        "CENTER_SIZE = 12\n",
        "ALPHA = 0.5\n",
        "\n",
        "os.makedirs(PATCHES_DIR, exist_ok=True)\n",
        "\n",
        "!du -sh /content/tid2013"
      ],
      "metadata": {
        "colab": {
          "base_uri": "https://localhost:8080/"
        },
        "id": "OjFWNs-hRFMz",
        "outputId": "fe42aa42-41f0-4a2f-a529-dfe861f62107"
      },
      "execution_count": 66,
      "outputs": [
        {
          "output_type": "stream",
          "name": "stdout",
          "text": [
            "Drive already mounted at /content/drive; to attempt to forcibly remount, call drive.mount(\"/content/drive\", force_remount=True).\n",
            "0.00  0:00:54 [0.00 /s] [<=>                                                   ]\n",
            "1.7G\t/content/tid2013\n"
          ]
        }
      ]
    },
    {
      "cell_type": "code",
      "source": [
        "# ================== LOAD MOS ==================\n",
        "def load_mos_with_names(mos_file):\n",
        "    mos_dict = {}\n",
        "    with open(mos_file, \"r\") as f:\n",
        "        for line in f:\n",
        "            parts = line.strip().split()\n",
        "            if len(parts) == 2:\n",
        "                # check if first token is a number or a filename\n",
        "                if parts[0].lower().endswith('.bmp'):\n",
        "                    fname, score = parts\n",
        "                else:\n",
        "                    score, fname = parts\n",
        "                mos_dict[fname] = float(score)\n",
        "    return mos_dict\n"
      ],
      "metadata": {
        "id": "9jOiAMxaRHL1"
      },
      "execution_count": 67,
      "outputs": []
    },
    {
      "cell_type": "code",
      "source": [
        "# ================== HELPERS ==================\n",
        "def compute_psnr(img1, img2):\n",
        "    arr1, arr2 = np.array(img1, dtype=np.float32), np.array(img2, dtype=np.float32)\n",
        "    mse = np.mean((arr1 - arr2) ** 2)\n",
        "    if mse == 0:\n",
        "        return float(\"inf\")\n",
        "    return 10 * np.log10((255 ** 2) / mse)\n",
        "\n",
        "def extract_patch(img, x, y, size=20):\n",
        "    return img.crop((x, y, x + size, y + size))\n",
        "\n",
        "def fuse_patch(clean_patch, dist_patch, mode=\"blend\", alpha=0.5):\n",
        "    clean_arr = np.array(clean_patch).astype(np.float32)\n",
        "    dist_arr = np.array(dist_patch).astype(np.float32)\n",
        "    h, w, _ = clean_arr.shape\n",
        "    cx, cy = w // 2, h // 2\n",
        "    half = CENTER_SIZE // 2\n",
        "    x1, y1 = cx - half, cy - half\n",
        "    x2, y2 = x1 + CENTER_SIZE, y1 + CENTER_SIZE\n",
        "\n",
        "    fused = dist_arr.copy()\n",
        "    if mode == \"copy\":\n",
        "        fused[y1:y2, x1:x2] = clean_arr[y1:y2, x1:x2]\n",
        "    else:  # blend\n",
        "        fused[y1:y2, x1:x2] = alpha * clean_arr[y1:y2, x1:x2] + (1 - alpha) * dist_arr[y1:y2, x1:x2]\n",
        "\n",
        "    return Image.fromarray(np.uint8(fused))"
      ],
      "metadata": {
        "id": "inyLWYGXRJGO"
      },
      "execution_count": 68,
      "outputs": []
    },
    {
      "cell_type": "code",
      "source": [
        "# ================== LOAD AND SELECT FILES ==================\n",
        "mos_dict = load_mos_with_names(MOS_FILE)\n",
        "all_files = list(mos_dict.keys())\n",
        "\n",
        "# shuffle for randomness\n",
        "random.shuffle(all_files)\n",
        "\n",
        "# pick N distorted images\n",
        "selected_files = all_files[:NUM_SAMPLES]\n",
        "\n",
        "print(f\"Loaded {len(mos_dict)} MOS entries\")\n",
        "print(f\"Selected {len(selected_files)} files for patch extraction\")\n",
        "print(\"First few examples:\", selected_files[:5])\n"
      ],
      "metadata": {
        "colab": {
          "base_uri": "https://localhost:8080/"
        },
        "id": "_DhJUfs7ZI0L",
        "outputId": "84cf7a80-aa90-4b1c-b4b3-1bef53cac6e5"
      },
      "execution_count": 69,
      "outputs": [
        {
          "output_type": "stream",
          "name": "stdout",
          "text": [
            "Loaded 3000 MOS entries\n",
            "Selected 1000 files for patch extraction\n",
            "First few examples: ['i07_16_3.bmp', 'i12_21_4.bmp', 'i19_05_2.bmp', 'i02_22_5.bmp', 'i25_12_3.bmp']\n"
          ]
        }
      ]
    },
    {
      "cell_type": "code",
      "source": [
        "print(\"Reference sample:\", os.listdir(REF_PATH)[:5])\n",
        "print(\"Distorted sample:\", os.listdir(DIST_PATH)[:5])"
      ],
      "metadata": {
        "colab": {
          "base_uri": "https://localhost:8080/"
        },
        "id": "6fH40l8bco33",
        "outputId": "6df1bbb6-561f-4996-f7a2-15e01f39b8a3"
      },
      "execution_count": 70,
      "outputs": [
        {
          "output_type": "stream",
          "name": "stdout",
          "text": [
            "Reference sample: ['I12.BMP', 'I25.BMP', 'I14.BMP', 'I06.BMP', 'I01.BMP']\n",
            "Distorted sample: ['i14_24_5.bmp', 'i18_10_3.bmp', 'i17_10_5.bmp', 'i07_04_3.bmp', 'i22_01_2.bmp']\n"
          ]
        }
      ]
    },
    {
      "cell_type": "markdown",
      "source": [
        "**Reference images are Uppercase while Distorted images are Lowercase.**"
      ],
      "metadata": {
        "id": "RkocJYcDgfZw"
      }
    },
    {
      "cell_type": "code",
      "source": [
        "refs = sorted(os.listdir(REF_PATH))\n",
        "print(\"Reference images found:\", refs)\n",
        "print(\"Count:\", len(refs))"
      ],
      "metadata": {
        "colab": {
          "base_uri": "https://localhost:8080/"
        },
        "id": "V7JFUL7qfu_o",
        "outputId": "eebab741-acb1-4dcf-a0d9-b8e69a66a130"
      },
      "execution_count": 71,
      "outputs": [
        {
          "output_type": "stream",
          "name": "stdout",
          "text": [
            "Reference images found: ['I01.BMP', 'I02.BMP', 'I03.BMP', 'I04.BMP', 'I05.BMP', 'I06.BMP', 'I07.BMP', 'I08.BMP', 'I09.BMP', 'I10.BMP', 'I11.BMP', 'I12.BMP', 'I13.BMP', 'I14.BMP', 'I15.BMP', 'I16.BMP', 'I17.BMP', 'I18.BMP', 'I19.BMP', 'I20.BMP', 'I21.BMP', 'I22.BMP', 'I23.BMP', 'I24.BMP', 'I25.BMP', 'i25.bmp']\n",
            "Count: 26\n"
          ]
        }
      ]
    },
    {
      "cell_type": "markdown",
      "source": [
        "**The last image file 'i25.BMP' is not Uppercase like the rest - rename it to match:**"
      ],
      "metadata": {
        "id": "EdAMP5yCgKx-"
      }
    },
    {
      "cell_type": "code",
      "source": [
        "mv /content/tid2013/reference_images/i25.bmp /content/tid2013/reference_images/I25.BMP"
      ],
      "metadata": {
        "id": "H1n4edRKf8K2"
      },
      "execution_count": 72,
      "outputs": []
    },
    {
      "cell_type": "code",
      "source": [
        "# ================== MAIN LOOP (Samsung format, Dual Patch) ==================\n",
        "metadata = []\n",
        "psnr_values = []\n",
        "\n",
        "DATASET_NAME = \"TID2013\"\n",
        "\n",
        "for idx, fname in enumerate(selected_files, start=1):\n",
        "    # Parse distorted filename\n",
        "    parts = fname.lower().split(\"_\")\n",
        "    if len(parts) < 3:\n",
        "        print(f\"Skipping {fname}, invalid filename format\")\n",
        "        continue\n",
        "\n",
        "    ref_id = parts[0].upper()\n",
        "    distortion_type = parts[1]\n",
        "    distortion_level = parts[2].split(\".\")[0]\n",
        "\n",
        "    # ----- Reference lookup -----\n",
        "    clean_file = None\n",
        "    for ext in [\".BMP\", \".bmp\", \".PNG\", \".png\"]:\n",
        "        candidate = os.path.join(REF_PATH, f\"{ref_id}{ext}\")\n",
        "        if os.path.exists(candidate):\n",
        "            clean_file = candidate\n",
        "            break\n",
        "    if clean_file is None:\n",
        "        print(f\"Skipping {fname}, reference not found\")\n",
        "        continue\n",
        "\n",
        "    # ----- Distorted lookup -----\n",
        "    dist_file = None\n",
        "    for ext in [\".BMP\", \".bmp\", \".PNG\", \".png\"]:\n",
        "        candidate = os.path.join(DIST_PATH, os.path.splitext(fname)[0] + ext)\n",
        "        if os.path.exists(candidate):\n",
        "            dist_file = candidate\n",
        "            break\n",
        "    if dist_file is None:\n",
        "        print(f\"Skipping {fname}, distorted not found\")\n",
        "        continue\n",
        "\n",
        "    # ----- Load images -----\n",
        "    clean_img = Image.open(clean_file).convert(\"RGB\")\n",
        "    dist_img = Image.open(dist_file).convert(\"RGB\")\n",
        "    w, h = clean_img.size\n",
        "\n",
        "    # Random coords\n",
        "    x = random.randint(0, w - PATCH_SIZE)\n",
        "    y = random.randint(0, h - PATCH_SIZE)\n",
        "\n",
        "    clean_patch = extract_patch(clean_img, x, y, PATCH_SIZE)\n",
        "    dist_patch = extract_patch(dist_img, x, y, PATCH_SIZE)\n",
        "\n",
        "    # ----- Generate ref + new patches -----\n",
        "    for fusion_mode in [\"copy\", \"blend\"]:\n",
        "        method_label = \"ref\" if fusion_mode == \"copy\" else \"new\"\n",
        "\n",
        "        fused_patch = fuse_patch(clean_patch, dist_patch, mode=fusion_mode, alpha=ALPHA)\n",
        "        psnr = compute_psnr(clean_patch, fused_patch)\n",
        "        psnr_values.append(psnr)\n",
        "\n",
        "        out_name = f\"{method_label}_patch_{idx:04}.png\"\n",
        "        fused_patch.save(os.path.join(PATCHES_DIR, out_name))\n",
        "\n",
        "        # Get MOS\n",
        "        mos_score = mos_dict.get(fname)\n",
        "        if mos_score is None:\n",
        "            continue\n",
        "        normalized_score = round(mos_score / 9, 3)\n",
        "\n",
        "        # Assign Samsung-style IDs\n",
        "        clean_id = 6000000 + idx\n",
        "        dist_id = 7000000 + idx\n",
        "        bp_map = dist_id + 1\n",
        "\n",
        "        # Bin MOS → color and score\n",
        "        if normalized_score >= 0.66:\n",
        "            color = \"GREEN\"\n",
        "            binned_score = 1\n",
        "        elif normalized_score >= 0.33:\n",
        "            color = \"ORANGE\"\n",
        "            binned_score = 0.5\n",
        "        else:\n",
        "            color = \"RED\"\n",
        "            binned_score = 0\n",
        "\n",
        "        # Build metadata entry\n",
        "        metadata.append({\n",
        "            \"unique_sample_id\": f\"{method_label}_{DATASET_NAME}_case{distortion_type}_{y}_{x}\",\n",
        "            \"clean_image\": clean_id,\n",
        "            \"distorted_image\": dist_id,\n",
        "            \"score\": binned_score,\n",
        "            \"metadata\": {\n",
        "                \"crop_id\": dist_id,\n",
        "                \"image_source\": DATASET_NAME,\n",
        "                \"bp_case\": f\"case{distortion_type}\",\n",
        "                \"method\": method_label,\n",
        "                \"color\": color,\n",
        "                \"score\": binned_score,\n",
        "                \"roi\": [x, y, PATCH_SIZE, PATCH_SIZE],\n",
        "                \"bp_map\": bp_map,\n",
        "                \"IQE_workspace_number\": 990,\n",
        "                \"mos_original\": mos_score,\n",
        "                \"mos_normalized\": normalized_score\n",
        "            }\n",
        "        })\n"
      ],
      "metadata": {
        "id": "bKKszDGtRLnu"
      },
      "execution_count": 73,
      "outputs": []
    },
    {
      "cell_type": "code",
      "source": [
        "# ================== SAVE RESULTS ==================\n",
        "with open(os.path.join(OUTPUT_PATH, \"metadata.json\"), \"w\") as f:\n",
        "    json.dump(metadata, f, indent=2)\n",
        "\n",
        "plt.hist([p for p in psnr_values if p != float(\"inf\")], bins=30)\n",
        "plt.xlabel(\"PSNR (dB)\")\n",
        "plt.ylabel(\"Frequency\")\n",
        "plt.title(\"Histogram of PSNR values\")\n",
        "plt.savefig(os.path.join(OUTPUT_PATH, \"psnr_histogram.png\"))\n",
        "plt.close()"
      ],
      "metadata": {
        "id": "xflVUeEtROP3"
      },
      "execution_count": 74,
      "outputs": []
    },
    {
      "cell_type": "code",
      "source": [
        "!zip -qr tid2013_patches.zip tid2013_patches\n",
        "files.download(\"tid2013_patches.zip\")"
      ],
      "metadata": {
        "colab": {
          "base_uri": "https://localhost:8080/",
          "height": 17
        },
        "id": "Io5i3z87Sfge",
        "outputId": "1dbfab84-7eec-41b4-e883-c5c627c39da8"
      },
      "execution_count": 75,
      "outputs": [
        {
          "output_type": "display_data",
          "data": {
            "text/plain": [
              "<IPython.core.display.Javascript object>"
            ],
            "application/javascript": [
              "\n",
              "    async function download(id, filename, size) {\n",
              "      if (!google.colab.kernel.accessAllowed) {\n",
              "        return;\n",
              "      }\n",
              "      const div = document.createElement('div');\n",
              "      const label = document.createElement('label');\n",
              "      label.textContent = `Downloading \"${filename}\": `;\n",
              "      div.appendChild(label);\n",
              "      const progress = document.createElement('progress');\n",
              "      progress.max = size;\n",
              "      div.appendChild(progress);\n",
              "      document.body.appendChild(div);\n",
              "\n",
              "      const buffers = [];\n",
              "      let downloaded = 0;\n",
              "\n",
              "      const channel = await google.colab.kernel.comms.open(id);\n",
              "      // Send a message to notify the kernel that we're ready.\n",
              "      channel.send({})\n",
              "\n",
              "      for await (const message of channel.messages) {\n",
              "        // Send a message to notify the kernel that we're ready.\n",
              "        channel.send({})\n",
              "        if (message.buffers) {\n",
              "          for (const buffer of message.buffers) {\n",
              "            buffers.push(buffer);\n",
              "            downloaded += buffer.byteLength;\n",
              "            progress.value = downloaded;\n",
              "          }\n",
              "        }\n",
              "      }\n",
              "      const blob = new Blob(buffers, {type: 'application/binary'});\n",
              "      const a = document.createElement('a');\n",
              "      a.href = window.URL.createObjectURL(blob);\n",
              "      a.download = filename;\n",
              "      div.appendChild(a);\n",
              "      a.click();\n",
              "      div.remove();\n",
              "    }\n",
              "  "
            ]
          },
          "metadata": {}
        },
        {
          "output_type": "display_data",
          "data": {
            "text/plain": [
              "<IPython.core.display.Javascript object>"
            ],
            "application/javascript": [
              "download(\"download_a01dd7af-96ec-4a8e-a620-64ff2f04f60b\", \"tid2013_patches.zip\", 3160867)"
            ]
          },
          "metadata": {}
        }
      ]
    }
  ]
}