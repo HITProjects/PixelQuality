{
  "nbformat": 4,
  "nbformat_minor": 0,
  "metadata": {
    "colab": {
      "provenance": []
    },
    "kernelspec": {
      "name": "python3",
      "display_name": "Python 3"
    },
    "language_info": {
      "name": "python"
    }
  },
  "cells": [
    {
      "cell_type": "code",
      "execution_count": 9,
      "metadata": {
        "id": "WsQra-h2yvU0"
      },
      "outputs": [],
      "source": [
        "import os, random, json\n",
        "import numpy as np\n",
        "from PIL import Image\n",
        "import matplotlib.pyplot as plt\n",
        "from google.colab import drive\n",
        "from google.colab import files"
      ]
    },
    {
      "cell_type": "code",
      "source": [
        "# ================== CONFIG ==================\n",
        "from google.colab import drive\n",
        "drive.mount('/content/drive')\n",
        "\n",
        "# Clean destination\n",
        "!rm -rf /content/jianjin008\n",
        "!mkdir -p /content/jianjin008\n",
        "\n",
        "# Quiet unzip into a temp folder\n",
        "!unzip -q \"/content/drive/MyDrive/Samsung_Datasets/jianjin008.zip\" -d /content/jianjin008_raw\n",
        "\n",
        "# Move all contents of the icip folder up one level\n",
        "!rsync -a /content/jianjin008_raw/icip/ /content/jianjin008/\n",
        "\n",
        "# Check that the structure is now flattened\n",
        "!ls -R /content/jianjin008 | head -20"
      ],
      "metadata": {
        "colab": {
          "base_uri": "https://localhost:8080/"
        },
        "id": "T6o30Gi44QzX",
        "outputId": "a346ccb6-2f93-4332-986d-8686a6e1dc87"
      },
      "execution_count": 2,
      "outputs": [
        {
          "output_type": "stream",
          "name": "stdout",
          "text": [
            "Mounted at /content/drive\n",
            "/content/jianjin008:\n",
            "jnd_img\n",
            "mos.txt\n",
            "paper.pdf\n",
            "README.txt\n",
            "ref_img\n",
            "\n",
            "/content/jianjin008/jnd_img:\n",
            "I01_02_01.png\n",
            "I01_06_01.png\n",
            "I01_08_01.png\n",
            "I01_09_01.png\n",
            "I01_10_01.png\n",
            "I01_16_01.png\n",
            "I01_16_02.png\n",
            "I01_17_01.png\n",
            "I01_17_02.png\n",
            "I01_19_01.png\n",
            "I01_19_02.png\n",
            "I01_20_01.png\n"
          ]
        }
      ]
    },
    {
      "cell_type": "code",
      "source": [
        "# ========== CONFIG ==========\n",
        "DATASET_PATH = \"/content/jianjin008\"\n",
        "REF_PATH = os.path.join(DATASET_PATH, \"ref_img\")\n",
        "DIST_PATH = os.path.join(DATASET_PATH, \"jnd_img\")\n",
        "MOS_FILE = os.path.join(DATASET_PATH, \"mos.txt\")\n",
        "OUTPUT_PATH = \"/content/jianjin008_patches\"\n",
        "PATCHES_DIR = os.path.join(OUTPUT_PATH, \"patches\")\n",
        "\n",
        "NUM_SAMPLES = 1000\n",
        "PATCH_SIZE = 20\n",
        "CENTER_SIZE = 12\n",
        "ALPHA = 0.5  # blending factor\n",
        "FUSION_METHOD = \"blend\" # or copy\n",
        "\n",
        "os.makedirs(PATCHES_DIR, exist_ok=True)"
      ],
      "metadata": {
        "id": "sd40qhwn4Svd"
      },
      "execution_count": 3,
      "outputs": []
    },
    {
      "cell_type": "code",
      "source": [
        "# ================== LOAD MOS ==================\n",
        "def load_mos(mos_file):\n",
        "    mos_dict = {}\n",
        "    with open(mos_file, \"r\") as f:\n",
        "        for line in f:\n",
        "            parts = line.strip().split()\n",
        "            if len(parts) == 2:\n",
        "                fname, score = parts\n",
        "                base_name = os.path.splitext(fname)[0]\n",
        "                mos_dict[base_name] = float(score)\n",
        "    return mos_dict\n",
        "\n",
        "mos_dict = load_mos(MOS_FILE)\n",
        "all_files = list(mos_dict.keys())\n",
        "random.shuffle(all_files)\n",
        "selected_files = all_files[:NUM_SAMPLES]"
      ],
      "metadata": {
        "id": "onpgmFsU4U0y"
      },
      "execution_count": 4,
      "outputs": []
    },
    {
      "cell_type": "code",
      "source": [
        "# ================== HELPERS ==================\n",
        "def compute_psnr(img1, img2):\n",
        "    arr1, arr2 = np.array(img1, dtype=np.float32), np.array(img2, dtype=np.float32)\n",
        "    mse = np.mean((arr1 - arr2) ** 2)\n",
        "    if mse == 0:\n",
        "        return float(\"inf\")\n",
        "    return 10 * np.log10((255 ** 2) / mse)\n",
        "\n",
        "def extract_patch(img, x, y, size=20):\n",
        "    return img.crop((x, y, x + size, y + size))\n",
        "\n",
        "def fuse_patch(clean_patch, dist_patch, mode=\"blend\", alpha=0.5):\n",
        "    clean_arr = np.array(clean_patch).astype(np.float32)\n",
        "    dist_arr = np.array(dist_patch).astype(np.float32)\n",
        "    h, w, _ = clean_arr.shape\n",
        "    cx, cy = w // 2, h // 2\n",
        "    half = CENTER_SIZE // 2\n",
        "    x1, y1 = cx - half, cy - half\n",
        "    x2, y2 = x1 + CENTER_SIZE, y1 + CENTER_SIZE\n",
        "\n",
        "    fused = dist_arr.copy()\n",
        "    if mode == \"copy\":\n",
        "        fused[y1:y2, x1:x2] = clean_arr[y1:y2, x1:x2]\n",
        "    else:  # blend\n",
        "        fused[y1:y2, x1:x2] = alpha * clean_arr[y1:y2, x1:x2] + (1 - alpha) * dist_arr[y1:y2, x1:x2]\n",
        "\n",
        "    return Image.fromarray(np.uint8(fused))"
      ],
      "metadata": {
        "id": "VDBU386q5RAC"
      },
      "execution_count": 5,
      "outputs": []
    },
    {
      "cell_type": "code",
      "source": [
        "# ================== MAIN LOOP (Samsung format, Dual Patch) ==================\n",
        "metadata = []\n",
        "psnr_values = []\n",
        "\n",
        "DATASET_NAME = \"Jianjin008\"\n",
        "\n",
        "for idx, fname in enumerate(selected_files, start=1):\n",
        "    # Parse distorted filename\n",
        "    parts = fname.lower().split(\"_\")\n",
        "    if len(parts) < 3:\n",
        "        print(f\"Skipping {fname}, invalid filename format\")\n",
        "        continue\n",
        "\n",
        "    ref_id = parts[0].upper()\n",
        "    distortion_type = parts[1]\n",
        "    distortion_level = parts[2].split(\".\")[0]\n",
        "\n",
        "    # ----- Reference lookup -----\n",
        "    clean_file = None\n",
        "    for ext in [\".BMP\", \".bmp\", \".PNG\", \".png\"]:\n",
        "        candidate = os.path.join(REF_PATH, f\"{ref_id}{ext}\")\n",
        "        if os.path.exists(candidate):\n",
        "            clean_file = candidate\n",
        "            break\n",
        "    if clean_file is None:\n",
        "        print(f\"Skipping {fname}, reference not found\")\n",
        "        continue\n",
        "\n",
        "    # ----- Distorted lookup -----\n",
        "    dist_file = None\n",
        "    for ext in [\".BMP\", \".bmp\", \".PNG\", \".png\"]:\n",
        "        candidate = os.path.join(DIST_PATH, os.path.splitext(fname)[0] + ext)\n",
        "        if os.path.exists(candidate):\n",
        "            dist_file = candidate\n",
        "            break\n",
        "    if dist_file is None:\n",
        "        print(f\"Skipping {fname}, distorted not found\")\n",
        "        continue\n",
        "\n",
        "    # ----- Load images -----\n",
        "    clean_img = Image.open(clean_file).convert(\"RGB\")\n",
        "    dist_img = Image.open(dist_file).convert(\"RGB\")\n",
        "    w, h = clean_img.size\n",
        "\n",
        "    # Random coords\n",
        "    x = random.randint(0, w - PATCH_SIZE)\n",
        "    y = random.randint(0, h - PATCH_SIZE)\n",
        "\n",
        "    clean_patch = extract_patch(clean_img, x, y, PATCH_SIZE)\n",
        "    dist_patch = extract_patch(dist_img, x, y, PATCH_SIZE)\n",
        "\n",
        "    # ----- Generate ref + new patches -----\n",
        "    for fusion_mode in [\"copy\", \"blend\"]:\n",
        "        method_label = \"ref\" if fusion_mode == \"copy\" else \"new\"\n",
        "\n",
        "        fused_patch = fuse_patch(clean_patch, dist_patch, mode=fusion_mode, alpha=ALPHA)\n",
        "        psnr = compute_psnr(clean_patch, fused_patch)\n",
        "        psnr_values.append(psnr)\n",
        "\n",
        "        out_name = f\"{method_label}_patch_{idx:04}.png\"\n",
        "        fused_patch.save(os.path.join(PATCHES_DIR, out_name))\n",
        "\n",
        "        # Get MOS\n",
        "        mos_score = mos_dict.get(fname)\n",
        "        if mos_score is None:\n",
        "            continue\n",
        "        normalized_score = round(mos_score / 9, 3)\n",
        "\n",
        "        # Assign Samsung-style IDs\n",
        "        clean_id = 6000000 + idx\n",
        "        dist_id = 7000000 + idx\n",
        "        bp_map = dist_id + 1\n",
        "\n",
        "        # Bin MOS → color and score\n",
        "        if normalized_score >= 0.66:\n",
        "            color = \"GREEN\"\n",
        "            binned_score = 1\n",
        "        elif normalized_score >= 0.33:\n",
        "            color = \"ORANGE\"\n",
        "            binned_score = 0.5\n",
        "        else:\n",
        "            color = \"RED\"\n",
        "            binned_score = 0\n",
        "\n",
        "        # Build metadata entry\n",
        "        metadata.append({\n",
        "            \"unique_sample_id\": f\"{method_label}_{DATASET_NAME}_case{distortion_type}_{y}_{x}\",\n",
        "            \"clean_image\": clean_id,\n",
        "            \"distorted_image\": dist_id,\n",
        "            \"score\": binned_score,\n",
        "            \"metadata\": {\n",
        "                \"crop_id\": dist_id,\n",
        "                \"image_source\": DATASET_NAME,\n",
        "                \"bp_case\": f\"case{distortion_type}\",\n",
        "                \"method\": method_label,\n",
        "                \"color\": color,\n",
        "                \"score\": binned_score,\n",
        "                \"roi\": [x, y, PATCH_SIZE, PATCH_SIZE],\n",
        "                \"bp_map\": bp_map,\n",
        "                \"IQE_workspace_number\": 990,\n",
        "                \"mos_original\": mos_score,\n",
        "                \"mos_normalized\": normalized_score\n",
        "            }\n",
        "        })\n"
      ],
      "metadata": {
        "colab": {
          "base_uri": "https://localhost:8080/"
        },
        "id": "DepkIPEu4c4O",
        "outputId": "70d409c8-aec1-4fa7-c2d3-60de52902d34"
      },
      "execution_count": 6,
      "outputs": [
        {
          "output_type": "stream",
          "name": "stdout",
          "text": [
            "Skipping I33_17_02, distorted not found\n"
          ]
        }
      ]
    },
    {
      "cell_type": "markdown",
      "source": [
        "That's because there's no such file in the dataset, although 'mos.txt' has it recorded."
      ],
      "metadata": {
        "id": "we09_vPZEo9x"
      }
    },
    {
      "cell_type": "code",
      "source": [
        "# ================== SAVE RESULTS ==================\n",
        "os.makedirs(OUTPUT_PATH, exist_ok=True)\n",
        "\n",
        "with open(os.path.join(OUTPUT_PATH, \"metadata.json\"), \"w\") as f:\n",
        "    json.dump(metadata, f, indent=2)\n",
        "\n",
        "plt.hist([p for p in psnr_values if p != float(\"inf\")], bins=30)\n",
        "plt.xlabel(\"PSNR (dB)\")\n",
        "plt.ylabel(\"Frequency\")\n",
        "plt.title(\"Histogram of PSNR values\")\n",
        "plt.savefig(os.path.join(OUTPUT_PATH, \"psnr_histogram.png\"))\n",
        "plt.close()"
      ],
      "metadata": {
        "id": "kA0KqHeg5WM5"
      },
      "execution_count": 7,
      "outputs": []
    },
    {
      "cell_type": "code",
      "source": [
        "!zip -qr jianjin008_patches.zip jianjin008_patches\n",
        "files.download(\"jianjin008_patches.zip\")"
      ],
      "metadata": {
        "colab": {
          "base_uri": "https://localhost:8080/",
          "height": 17
        },
        "id": "uTzgSyCUCLmw",
        "outputId": "cfde3f74-cbe2-46b7-f8e5-3912908961a7"
      },
      "execution_count": 10,
      "outputs": [
        {
          "output_type": "display_data",
          "data": {
            "text/plain": [
              "<IPython.core.display.Javascript object>"
            ],
            "application/javascript": [
              "\n",
              "    async function download(id, filename, size) {\n",
              "      if (!google.colab.kernel.accessAllowed) {\n",
              "        return;\n",
              "      }\n",
              "      const div = document.createElement('div');\n",
              "      const label = document.createElement('label');\n",
              "      label.textContent = `Downloading \"${filename}\": `;\n",
              "      div.appendChild(label);\n",
              "      const progress = document.createElement('progress');\n",
              "      progress.max = size;\n",
              "      div.appendChild(progress);\n",
              "      document.body.appendChild(div);\n",
              "\n",
              "      const buffers = [];\n",
              "      let downloaded = 0;\n",
              "\n",
              "      const channel = await google.colab.kernel.comms.open(id);\n",
              "      // Send a message to notify the kernel that we're ready.\n",
              "      channel.send({})\n",
              "\n",
              "      for await (const message of channel.messages) {\n",
              "        // Send a message to notify the kernel that we're ready.\n",
              "        channel.send({})\n",
              "        if (message.buffers) {\n",
              "          for (const buffer of message.buffers) {\n",
              "            buffers.push(buffer);\n",
              "            downloaded += buffer.byteLength;\n",
              "            progress.value = downloaded;\n",
              "          }\n",
              "        }\n",
              "      }\n",
              "      const blob = new Blob(buffers, {type: 'application/binary'});\n",
              "      const a = document.createElement('a');\n",
              "      a.href = window.URL.createObjectURL(blob);\n",
              "      a.download = filename;\n",
              "      div.appendChild(a);\n",
              "      a.click();\n",
              "      div.remove();\n",
              "    }\n",
              "  "
            ]
          },
          "metadata": {}
        },
        {
          "output_type": "display_data",
          "data": {
            "text/plain": [
              "<IPython.core.display.Javascript object>"
            ],
            "application/javascript": [
              "download(\"download_7f990380-bd4b-4568-b586-c7ad3addde84\", \"jianjin008_patches.zip\", 2025080)"
            ]
          },
          "metadata": {}
        }
      ]
    }
  ]
}