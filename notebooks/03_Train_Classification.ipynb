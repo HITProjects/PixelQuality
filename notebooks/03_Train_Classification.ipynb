{
 "cells": [
  {
   "metadata": {},
   "cell_type": "markdown",
   "source": "# LocJND — 3-Class Classification Training (full pipeline)",
   "id": "4b1141ce5a3ba3f5"
  },
  {
   "metadata": {
    "ExecuteTime": {
     "end_time": "2025-09-14T17:37:38.017839Z",
     "start_time": "2025-09-14T17:37:38.013567Z"
    }
   },
   "cell_type": "code",
   "source": [
    "# Core\n",
    "import random\n",
    "from pathlib import Path\n",
    "\n",
    "# Data\n",
    "import numpy as np\n",
    "import pandas as pd\n",
    "\n",
    "# Images\n",
    "import cv2\n",
    "\n",
    "# Torch\n",
    "import torch\n",
    "import torch.nn as nn\n",
    "import torch.optim as optim\n",
    "from torch.nn import functional as F\n",
    "from torch.utils.data import Dataset, DataLoader, WeightedRandomSampler\n",
    "\n",
    "\n",
    "# Metrics\n",
    "from sklearn.model_selection import train_test_split\n",
    "from sklearn.metrics import confusion_matrix, classification_report, f1_score\n",
    "\n",
    "# Viz\n",
    "import matplotlib.pyplot as plt\n"
   ],
   "id": "9d320b9832923e35",
   "outputs": [],
   "execution_count": 21
  },
  {
   "metadata": {
    "ExecuteTime": {
     "end_time": "2025-09-14T17:37:38.392644Z",
     "start_time": "2025-09-14T17:37:38.361268Z"
    }
   },
   "cell_type": "code",
   "source": [
    "\"\"\"\n",
    "Load blends_meta, map h_c→{0,1,2} via fixed thresholds, split by image_id to avoid leakage.\n",
    "\"\"\"\n",
    "# Config\n",
    "META_CSV  = Path(\"dataset/blends_meta.csv\")\n",
    "B1, B2    = 0.402, 0.648\n",
    "MARGIN    = 0.05\n",
    "SEED      = 42\n",
    "BATCH     = 128\n",
    "EPOCHS    = 30\n",
    "LR        = 5e-4\n",
    "WD        = 5e-4\n",
    "DEVICE    = \"cuda\" if torch.cuda.is_available() else \"cpu\"\n",
    "\n",
    "def hc_to_cls(h: float) -> int:\n",
    "    if h < B1 - MARGIN:\n",
    "        return 0  # Green\n",
    "    if h >= B2 + MARGIN:\n",
    "        return 2  # Red\n",
    "    return 1\n",
    "\n",
    "meta = pd.read_csv(META_CSV)\n",
    "meta[\"label_cls\"] = meta[\"h_c\"].astype(float).apply(hc_to_cls)\n",
    "meta[\"orig_path\"]  = meta[\"orig_path\"].astype(str).apply(lambda p: str(Path(p)))\n",
    "meta[\"mixed_path\"] = meta[\"mixed_path\"].astype(str).apply(lambda p: str(Path(p)))\n",
    "\n",
    "# Split strictly by image_id\n",
    "ids = meta[[\"image_id\"]].drop_duplicates()\n",
    "train_ids, test_ids = train_test_split(ids, test_size=0.15, random_state=SEED)\n",
    "train_ids, val_ids  = train_test_split(train_ids, test_size=0.15, random_state=SEED)\n",
    "\n",
    "train_df = meta.merge(train_ids, on=\"image_id\")\n",
    "val_df   = meta.merge(val_ids,   on=\"image_id\")\n",
    "test_df  = meta.merge(test_ids,  on=\"image_id\")\n",
    "\n",
    "print(f\"Train/Val/Test sizes: {len(train_df)} / {len(val_df)} / {len(test_df)}\")\n",
    "print(\"Class balance (train):\", train_df[\"label_cls\"].value_counts().sort_index().to_dict())\n"
   ],
   "id": "fad84cd48f2a8387",
   "outputs": [
    {
     "name": "stdout",
     "output_type": "stream",
     "text": [
      "Train/Val/Test sizes: 672 / 336 / 336\n",
      "Class balance (train): {0: 192, 1: 246, 2: 234}\n"
     ]
    }
   ],
   "execution_count": 22
  },
  {
   "metadata": {
    "ExecuteTime": {
     "end_time": "2025-09-14T17:37:39.000609Z",
     "start_time": "2025-09-14T17:37:38.687940Z"
    }
   },
   "cell_type": "code",
   "source": [
    "\"\"\"\n",
    "Compute mean/std on TRAIN only for:\n",
    "- ORIG  (3ch RGB in [0,1])\n",
    "- MIXED (3ch RGB in [0,1])\n",
    "- DELTA (abs(mixed-orig), 3ch in [0,1])\n",
    "\"\"\"\n",
    "def accumulate_stats(df: pd.DataFrame):\n",
    "    sum_o, sumsq_o = np.zeros(3), np.zeros(3)\n",
    "    sum_m, sumsq_m = np.zeros(3), np.zeros(3)\n",
    "    sum_d, sumsq_d = np.zeros(3), np.zeros(3)\n",
    "    count_px = 0\n",
    "\n",
    "    for _, r in df.iterrows():\n",
    "        o = cv2.cvtColor(cv2.imread(r[\"orig_path\"]),  cv2.COLOR_BGR2RGB).astype(np.float32)/255.0\n",
    "        m = cv2.cvtColor(cv2.imread(r[\"mixed_path\"]), cv2.COLOR_BGR2RGB).astype(np.float32)/255.0\n",
    "        d = np.abs(m - o)\n",
    "\n",
    "        H, W, _ = m.shape\n",
    "        N = H * W\n",
    "        count_px += N\n",
    "\n",
    "        X = o.reshape(-1,3); sum_o += X.sum(0); sumsq_o += (X**2).sum(0)\n",
    "        X = m.reshape(-1,3); sum_m += X.sum(0); sumsq_m += (X**2).sum(0)\n",
    "        X = d.reshape(-1,3); sum_d += X.sum(0); sumsq_d += (X**2).sum(0)\n",
    "\n",
    "    def _ms(sum_, sumsq_):\n",
    "        mean = sum_ / count_px\n",
    "        var  = sumsq_ / count_px - mean**2\n",
    "        std  = np.sqrt(np.maximum(var, 1e-12))\n",
    "        return mean, std\n",
    "\n",
    "    mean_o, std_o = _ms(sum_o, sumsq_o)\n",
    "    mean_m, std_m = _ms(sum_m, sumsq_m)\n",
    "    mean_d, std_d = _ms(sum_d, sumsq_d)\n",
    "    return mean_o, std_o, mean_m, std_m, mean_d, std_d\n",
    "\n",
    "mean_o, std_o, mean_m, std_m, mean_d, std_d = accumulate_stats(train_df)\n",
    "print(\"ORIG  mean/std:\", mean_o, std_o)\n",
    "print(\"MIXED mean/std:\", mean_m, std_m)\n",
    "print(\"DELTA mean/std:\", mean_d, std_d)\n"
   ],
   "id": "30f5f997ca0e0dfd",
   "outputs": [
    {
     "name": "stdout",
     "output_type": "stream",
     "text": [
      "ORIG  mean/std: [0.46344508 0.46301791 0.30443672] [0.21176087 0.22572452 0.16496973]\n",
      "MIXED mean/std: [0.46275436 0.46244991 0.30392975] [0.21106215 0.22542388 0.16497163]\n",
      "DELTA mean/std: [0.00370499 0.00309896 0.00423248] [0.00971612 0.00844022 0.01112117]\n"
     ]
    }
   ],
   "execution_count": 23
  },
  {
   "metadata": {
    "ExecuteTime": {
     "end_time": "2025-09-14T17:37:39.023443Z",
     "start_time": "2025-09-14T17:37:39.012619Z"
    }
   },
   "cell_type": "code",
   "source": [
    "\"\"\"\n",
    "Return synchronized (orig, mixed), build delta=|m−o| (3ch), apply per-stream normalization.\n",
    "Augment only with rot90/flip and keep orig/mixed transforms identical.\n",
    "\"\"\"\n",
    "class PatchDataset(Dataset):\n",
    "    def __init__(self, df, mean_o, std_o, mean_m, std_m, mean_d, std_d, augment=False):\n",
    "        self.df = df.reset_index(drop=True)\n",
    "        self.mean_o = torch.tensor(mean_o, dtype=torch.float32).view(3,1,1)\n",
    "        self.std_o  = torch.tensor(std_o,  dtype=torch.float32).view(3,1,1)\n",
    "        self.mean_m = torch.tensor(mean_m, dtype=torch.float32).view(3,1,1)\n",
    "        self.std_m  = torch.tensor(std_m,  dtype=torch.float32).view(3,1,1)\n",
    "        self.mean_d = torch.tensor(mean_d, dtype=torch.float32).view(3,1,1)\n",
    "        self.std_d  = torch.tensor(std_d,  dtype=torch.float32).view(3,1,1)\n",
    "        self.augment = augment\n",
    "\n",
    "    def __len__(self): return len(self.df)\n",
    "\n",
    "    def _load_rgb(self, p: str) -> np.ndarray:\n",
    "        x = cv2.imread(p, cv2.IMREAD_COLOR)\n",
    "        if x is None: raise FileNotFoundError(p)\n",
    "        return cv2.cvtColor(x, cv2.COLOR_BGR2RGB).astype(np.float32) / 255.0\n",
    "\n",
    "    def _sync_aug(self, o: np.ndarray, m: np.ndarray):\n",
    "        if not self.augment: return o, m\n",
    "        k = random.randint(0, 3)\n",
    "        if k:\n",
    "            o = np.rot90(o, k).copy(); m = np.rot90(m, k).copy()\n",
    "        if random.random() < 0.5:\n",
    "            o = np.flip(o, 1).copy(); m = np.flip(m, 1).copy()\n",
    "        if random.random() < 0.5:\n",
    "            o = np.flip(o, 0).copy(); m = np.flip(m, 0).copy()\n",
    "        return o, m\n",
    "\n",
    "    def __getitem__(self, idx):\n",
    "        r = self.df.iloc[idx]\n",
    "        o = self._load_rgb(r[\"orig_path\"])\n",
    "        m = self._load_rgb(r[\"mixed_path\"])\n",
    "        o, m = self._sync_aug(o, m)\n",
    "\n",
    "        d = np.abs(m - o)  # (H,W,3)\n",
    "\n",
    "        # to torch, CHW\n",
    "        o_t = torch.from_numpy(o.transpose(2,0,1))\n",
    "        m_t = torch.from_numpy(m.transpose(2,0,1))\n",
    "        d_t = torch.from_numpy(d.transpose(2,0,1))\n",
    "\n",
    "        # per-stream normalization\n",
    "        o_t = (o_t - self.mean_o) / (self.std_o + 1e-12)\n",
    "        m_t = (m_t - self.mean_m) / (self.std_m + 1e-12)\n",
    "        d_t = (d_t - self.mean_d) / (self.std_d + 1e-12)\n",
    "\n",
    "        y = int(r[\"label_cls\"])\n",
    "        return o_t, m_t, d_t, y\n",
    "\n",
    "train_ds = PatchDataset(train_df, mean_o, std_o, mean_m, std_m, mean_d, std_d, augment=True)\n",
    "val_ds   = PatchDataset(val_df,   mean_o, std_o, mean_m, std_m, mean_d, std_d, augment=False)\n",
    "test_ds  = PatchDataset(test_df,  mean_o, std_o, mean_m, std_m, mean_d, std_d, augment=False)\n",
    "\n",
    "cls_sampling = {0: 1.0, 1: 1.25, 2: 1.35}\n",
    "sample_weights = train_df[\"label_cls\"].map(cls_sampling).astype(np.float32).to_numpy()\n",
    "sampler = WeightedRandomSampler(weights=sample_weights,\n",
    "                                num_samples=len(sample_weights),\n",
    "                                replacement=True)\n",
    "\n",
    "train_dl = DataLoader(train_ds, batch_size=BATCH, shuffle=True,  pin_memory=True)\n",
    "val_dl   = DataLoader(val_ds,   batch_size=BATCH, shuffle=False, pin_memory=True)\n",
    "test_dl  = DataLoader(test_ds,  batch_size=BATCH, shuffle=False, pin_memory=True)\n"
   ],
   "id": "ae2825be7d74469d",
   "outputs": [],
   "execution_count": 24
  },
  {
   "metadata": {
    "ExecuteTime": {
     "end_time": "2025-09-14T17:37:39.329005Z",
     "start_time": "2025-09-14T17:37:39.309532Z"
    }
   },
   "cell_type": "code",
   "source": [
    "\"\"\"\n",
    "Three branches: orig(3ch), mixed(3ch), delta(3ch). Late fusion + dropout head.\n",
    "Keep capacity moderate; delta branch lighter.\n",
    "\"\"\"\n",
    "class ConvBlock(nn.Module):\n",
    "    def __init__(self, in_ch, out_ch):\n",
    "        super().__init__()\n",
    "        self.net = nn.Sequential(\n",
    "            nn.Conv2d(in_ch, out_ch, 3, padding=1), nn.ReLU(inplace=True),\n",
    "            nn.Conv2d(out_ch, out_ch, 3, padding=1), nn.ReLU(inplace=True),\n",
    "            nn.MaxPool2d(2)  # 20→10, then 10→5 in next block\n",
    "        )\n",
    "    def forward(self, x): return self.net(x)\n",
    "\n",
    "class TinyBranch(nn.Module):\n",
    "    def __init__(self, in_ch, base=16):\n",
    "        super().__init__()\n",
    "        self.b1 = ConvBlock(in_ch, base)       # → 10x10\n",
    "        self.b2 = ConvBlock(base, base*2)      # → 5x5\n",
    "    def forward(self, x): return self.b2(self.b1(x))\n",
    "\n",
    "class PatchNetDual(nn.Module):\n",
    "    def __init__(self, num_classes=3, base=16, drop=0.3):\n",
    "        super().__init__()\n",
    "        self.orig  = TinyBranch(3, base=base)          # out: (base*2,5,5)\n",
    "        self.mixed = TinyBranch(3, base=base)          # out: (base*2,5,5)\n",
    "        self.delta = TinyBranch(3, base=base//2)       # out: (base,  5,5)\n",
    "\n",
    "        f_orig  = (base*2) * 5 * 5\n",
    "        f_mixed = (base*2) * 5 * 5\n",
    "        f_delta = (base)   * 5 * 5\n",
    "        feat_dim = f_orig + f_mixed + f_delta\n",
    "\n",
    "        self.head = nn.Sequential(\n",
    "            nn.Flatten(),\n",
    "            nn.Linear(feat_dim, 256), nn.ReLU(inplace=True),\n",
    "            nn.Dropout(drop),\n",
    "            nn.Linear(256, num_classes)\n",
    "        )\n",
    "\n",
    "    def forward(self, o, m, d):\n",
    "        fo = self.orig(o)\n",
    "        fm = self.mixed(m)\n",
    "        fd = self.delta(d)\n",
    "        x  = torch.cat([fo, fm, fd], dim=1)\n",
    "        return self.head(x)\n",
    "\n",
    "model = PatchNetDual(num_classes=3, base=16, drop=0.3).to(DEVICE)\n",
    "print(\"Params (M):\", sum(p.numel() for p in model.parameters())/1e6)\n"
   ],
   "id": "7b7ca3673151a28c",
   "outputs": [
    {
     "name": "stdout",
     "output_type": "stream",
     "text": [
      "Params (M): 0.550635\n"
     ]
    }
   ],
   "execution_count": 25
  },
  {
   "metadata": {
    "ExecuteTime": {
     "end_time": "2025-09-14T17:38:02.598004Z",
     "start_time": "2025-09-14T17:37:39.661285Z"
    }
   },
   "cell_type": "code",
   "source": [
    "\"\"\"\n",
    "CrossEntropyLoss without class-weights (since we oversample via WeightedRandomSampler).\n",
    "Early-stop on best macro-F1 to protect minority classes.\n",
    "\"\"\"\n",
    "criterion = nn.CrossEntropyLoss()\n",
    "optimizer = optim.Adam(model.parameters(), lr=LR, weight_decay=WD)\n",
    "\n",
    "best_state, best_val_f1 = None, -1.0\n",
    "patience, wait = 8, 0\n",
    "\n",
    "def run_epoch(dl, train: bool):\n",
    "    model.train() if train else model.eval()\n",
    "    tot_loss, tot_ok, tot_n = 0.0, 0, 0\n",
    "    ys, ps = [], []\n",
    "    for o, m, d, y in dl:\n",
    "        o, m, d, y = o.to(DEVICE), m.to(DEVICE), d.to(DEVICE), y.to(DEVICE)\n",
    "        if train: optimizer.zero_grad()\n",
    "        logits = model(o, m, d)\n",
    "        loss   = criterion(logits, y)\n",
    "        if train:\n",
    "            loss.backward()\n",
    "            torch.nn.utils.clip_grad_norm_(model.parameters(), 1.0)\n",
    "            optimizer.step()\n",
    "        pred = logits.argmax(1)\n",
    "        tot_loss += loss.item() * y.size(0)\n",
    "        tot_ok   += (pred == y).sum().item()\n",
    "        tot_n    += y.size(0)\n",
    "        ys.append(y.detach().cpu().numpy())\n",
    "        ps.append(pred.detach().cpu().numpy())\n",
    "    ys = np.concatenate(ys); ps = np.concatenate(ps)\n",
    "    return tot_loss/tot_n, tot_ok/tot_n, f1_score(ys, ps, average=\"macro\")\n",
    "\n",
    "for ep in range(1, EPOCHS+1):\n",
    "    tr_loss, tr_acc, tr_f1 = run_epoch(train_dl, True)\n",
    "    va_loss, va_acc, va_f1 = run_epoch(val_dl,   False)\n",
    "    print(f\"epoch {ep:02d} | train {tr_loss:.3f}/{tr_acc:.3f}/F1 {tr_f1:.3f} | \"\n",
    "          f\"val {va_loss:.3f}/{va_acc:.3f}/F1 {va_f1:.3f}\")\n",
    "    if va_f1 > best_val_f1:\n",
    "        best_val_f1 = va_f1\n",
    "        best_state = {k: v.detach().cpu() for k, v in model.state_dict().items()}\n",
    "        wait = 0\n",
    "    else:\n",
    "        wait += 1\n",
    "        #if wait >= patience: break\n",
    "\n",
    "if best_state:\n",
    "    model.load_state_dict({k: v.to(DEVICE) for k, v in best_state.items()})\n"
   ],
   "id": "4eb59b7ab24a7e57",
   "outputs": [
    {
     "name": "stdout",
     "output_type": "stream",
     "text": [
      "epoch 01 | train 1.095/0.344/F1 0.229 | val 1.081/0.324/F1 0.222\n",
      "epoch 02 | train 1.083/0.390/F1 0.304 | val 1.065/0.363/F1 0.282\n",
      "epoch 03 | train 1.069/0.406/F1 0.312 | val 1.080/0.342/F1 0.252\n",
      "epoch 04 | train 1.061/0.396/F1 0.340 | val 1.055/0.372/F1 0.354\n",
      "epoch 05 | train 1.056/0.412/F1 0.368 | val 1.051/0.390/F1 0.362\n",
      "epoch 06 | train 1.043/0.475/F1 0.472 | val 1.121/0.357/F1 0.329\n",
      "epoch 07 | train 1.038/0.504/F1 0.503 | val 1.071/0.381/F1 0.368\n",
      "epoch 08 | train 1.019/0.518/F1 0.515 | val 1.080/0.393/F1 0.376\n",
      "epoch 09 | train 1.008/0.513/F1 0.513 | val 1.107/0.381/F1 0.332\n",
      "epoch 10 | train 0.986/0.510/F1 0.507 | val 1.119/0.384/F1 0.357\n",
      "epoch 11 | train 0.969/0.548/F1 0.549 | val 1.167/0.384/F1 0.350\n",
      "epoch 12 | train 0.960/0.551/F1 0.543 | val 1.167/0.372/F1 0.346\n",
      "epoch 13 | train 0.951/0.548/F1 0.548 | val 1.223/0.348/F1 0.303\n",
      "epoch 14 | train 0.930/0.571/F1 0.569 | val 1.243/0.354/F1 0.296\n",
      "epoch 15 | train 0.900/0.591/F1 0.589 | val 1.297/0.351/F1 0.314\n",
      "epoch 16 | train 0.893/0.603/F1 0.604 | val 1.388/0.378/F1 0.326\n",
      "epoch 17 | train 0.876/0.612/F1 0.610 | val 1.498/0.357/F1 0.298\n",
      "epoch 18 | train 0.874/0.618/F1 0.622 | val 1.425/0.330/F1 0.280\n",
      "epoch 19 | train 0.853/0.625/F1 0.624 | val 1.522/0.357/F1 0.302\n",
      "epoch 20 | train 0.853/0.601/F1 0.602 | val 1.482/0.339/F1 0.287\n",
      "epoch 21 | train 0.828/0.628/F1 0.629 | val 1.554/0.372/F1 0.323\n",
      "epoch 22 | train 0.808/0.638/F1 0.642 | val 1.615/0.360/F1 0.324\n",
      "epoch 23 | train 0.806/0.661/F1 0.663 | val 1.689/0.357/F1 0.304\n",
      "epoch 24 | train 0.797/0.646/F1 0.649 | val 1.810/0.366/F1 0.321\n",
      "epoch 25 | train 0.780/0.658/F1 0.661 | val 1.816/0.354/F1 0.320\n",
      "epoch 26 | train 0.765/0.664/F1 0.670 | val 1.851/0.360/F1 0.296\n",
      "epoch 27 | train 0.744/0.671/F1 0.675 | val 1.886/0.354/F1 0.316\n",
      "epoch 28 | train 0.726/0.699/F1 0.705 | val 2.021/0.363/F1 0.322\n",
      "epoch 29 | train 0.731/0.671/F1 0.674 | val 2.217/0.345/F1 0.298\n",
      "epoch 30 | train 0.730/0.695/F1 0.702 | val 2.155/0.342/F1 0.303\n"
     ]
    }
   ],
   "execution_count": 26
  },
  {
   "metadata": {
    "ExecuteTime": {
     "end_time": "2025-09-14T17:38:03.294017Z",
     "start_time": "2025-09-14T17:38:02.874103Z"
    }
   },
   "cell_type": "code",
   "source": [
    "\"\"\"\n",
    "Test evaluation:\n",
    "- Confusion matrices: counts, overall %, row-normalized %.\n",
    "- Per-class accuracy table and full classification report.\n",
    "- Print prediction distribution for sanity.\n",
    "\"\"\"\n",
    "model.eval(); y_true, y_pred, probs = [], [], []\n",
    "with torch.no_grad():\n",
    "    for o, m, d, y in test_dl:\n",
    "        logits = model(o.to(DEVICE), m.to(DEVICE), d.to(DEVICE))\n",
    "        p = torch.softmax(logits, dim=1).cpu().numpy()\n",
    "        y_true.extend(y.numpy().tolist())\n",
    "        y_pred.extend(p.argmax(1).tolist())\n",
    "        probs.extend(p.tolist())\n",
    "\n",
    "y_true = np.array(y_true); y_pred = np.array(y_pred); probs = np.array(probs)\n",
    "labels = [0,1,2]; names = [\"Green(0)\", \"Orange(1)\", \"Red(2)\"]\n",
    "\n",
    "cm_abs = confusion_matrix(y_true, y_pred, labels=labels)\n",
    "cm_all = confusion_matrix(y_true, y_pred, labels=labels, normalize='all')\n",
    "cm_row = confusion_matrix(y_true, y_pred, labels=labels, normalize='true')\n",
    "\n",
    "print(\"Pred distribution:\", pd.Series(y_pred).value_counts().sort_index().to_dict())\n",
    "\n",
    "def draw_cm(mat, title, is_percent=False):\n",
    "    fig, ax = plt.subplots(figsize=(4.2,4.0))\n",
    "    im = ax.imshow(mat if not is_percent else mat*100.0)\n",
    "    ax.set_xticks(range(len(labels))); ax.set_xticklabels(names, rotation=30, ha='right')\n",
    "    ax.set_yticks(range(len(labels))); ax.set_yticklabels(names)\n",
    "    ax.set_xlabel(\"Predicted\"); ax.set_ylabel(\"True\"); ax.set_title(title)\n",
    "    for i in range(mat.shape[0]):\n",
    "        for j in range(mat.shape[1]):\n",
    "            val = mat[i, j] * (100 if is_percent else 1)\n",
    "            ax.text(j, i, f\"{val:.1f}\" if is_percent else f\"{int(val)}\",\n",
    "                    ha='center', va='center', color=\"w\")\n",
    "    plt.colorbar(im, ax=ax, fraction=0.046, pad=0.04); plt.show()\n",
    "\n",
    "draw_cm(cm_abs, \"Confusion (counts)\")\n",
    "draw_cm(cm_all, \"Confusion (overall %)\", True)\n",
    "draw_cm(cm_row, \"Confusion (row-normalized %)\", True)\n",
    "\n",
    "per_class_acc = np.diag(cm_row) * 100.0\n",
    "summary = pd.DataFrame({\n",
    "    \"class\": names,\n",
    "    \"accuracy_pct\": per_class_acc.round(2),\n",
    "    \"support\": [(y_true==i).sum() for i in labels]\n",
    "})\n",
    "print(summary)\n",
    "print(classification_report(y_true, y_pred, labels=labels, target_names=names))\n"
   ],
   "id": "684242f3cd6a816c",
   "outputs": [
    {
     "name": "stdout",
     "output_type": "stream",
     "text": [
      "Pred distribution: {0: 168, 1: 95, 2: 73}\n"
     ]
    },
    {
     "data": {
      "text/plain": [
       "<Figure size 420x400 with 2 Axes>"
      ],
      "image/png": "[encoded data removed]"
     },
     "metadata": {},
     "output_type": "display_data"
    },
    {
     "data": {
      "text/plain": [
       "<Figure size 420x400 with 2 Axes>"
      ],
      "image/png": "[encoded data removed]"
     },
     "metadata": {},
     "output_type": "display_data"
    },
    {
     "data": {
      "text/plain": [
       "<Figure size 420x400 with 2 Axes>"
      ],
      "image/png": "[encoded data removed]"
     },
     "metadata": {},
     "output_type": "display_data"
    },
    {
     "name": "stdout",
     "output_type": "stream",
     "text": [
      "       class  accuracy_pct  support\n",
      "0   Green(0)         68.75       96\n",
      "1  Orange(1)         29.71      138\n",
      "2     Red(2)         30.39      102\n",
      "              precision    recall  f1-score   support\n",
      "\n",
      "    Green(0)       0.39      0.69      0.50        96\n",
      "   Orange(1)       0.43      0.30      0.35       138\n",
      "      Red(2)       0.42      0.30      0.35       102\n",
      "\n",
      "    accuracy                           0.41       336\n",
      "   macro avg       0.42      0.43      0.40       336\n",
      "weighted avg       0.42      0.41      0.39       336\n",
      "\n"
     ]
    }
   ],
   "execution_count": 27
  },
  {
   "metadata": {
    "ExecuteTime": {
     "end_time": "2025-09-14T17:38:03.578290Z",
     "start_time": "2025-09-14T17:38:03.568662Z"
    }
   },
   "cell_type": "code",
   "source": [
    "\"\"\"\n",
    "Optional: export predictions for team-wide comparison.\n",
    "\"\"\"\n",
    "out_csv = Path(\"runs/test_predictions_dual.csv\")\n",
    "pd.DataFrame({\n",
    "    \"y_true\": y_true,\n",
    "    \"y_pred\": y_pred,\n",
    "    \"p0\": probs[:,0],\n",
    "    \"p1\": probs[:,1],\n",
    "    \"p2\": probs[:,2],\n",
    "}).to_csv(out_csv, index=False)\n",
    "print(\"Saved:\", out_csv.resolve())\n"
   ],
   "id": "da825a9e1183850",
   "outputs": [
    {
     "name": "stdout",
     "output_type": "stream",
     "text": [
      "Saved: C:\\Users\\YehonatanR\\OneDrive\\Documents\\HIT Computer Science\\3rd\\PixelQuality\\PythonProject\\runs\\test_predictions_dual.csv\n"
     ]
    }
   ],
   "execution_count": 28
  },
  {
   "metadata": {
    "ExecuteTime": {
     "end_time": "2025-09-14T17:38:03.859204Z",
     "start_time": "2025-09-14T17:38:03.843832Z"
    }
   },
   "cell_type": "code",
   "source": [
    "# Save a single checkpoint file with weights, config, and normalization stats.\n",
    "ART_DIR = Path(\"artifacts\"); ART_DIR.mkdir(parents=True, exist_ok=True)\n",
    "CKPT_PATH = ART_DIR / \"locjnd_cls.pt\"\n",
    "\n",
    "ckpt = {\n",
    "    \"model_name\": \"PatchNetDual\",\n",
    "    \"arch_params\": {\"num_classes\": 3, \"base\": 16, \"drop\": 0.3},\n",
    "    \"config\": {\n",
    "        \"B1\": B1, \"B2\": B2, \"MARGIN\": MARGIN,\n",
    "        \"SEED\": SEED, \"BATCH\": BATCH, \"EPOCHS\": EPOCHS,\n",
    "        \"LR\": LR, \"WD\": WD, \"device\": DEVICE,\n",
    "    },\n",
    "    \"norm\": {\n",
    "        # store as tensors for exact dtype\n",
    "        \"mean_o\": torch.tensor(mean_o, dtype=torch.float32),\n",
    "        \"std_o\":  torch.tensor(std_o,  dtype=torch.float32),\n",
    "        \"mean_m\": torch.tensor(mean_m, dtype=torch.float32),\n",
    "        \"std_m\":  torch.tensor(std_m,  dtype=torch.float32),\n",
    "        \"mean_d\": torch.tensor(mean_d, dtype=torch.float32),\n",
    "        \"std_d\":  torch.tensor(std_d,  dtype=torch.float32),\n",
    "    },\n",
    "    \"state_dict\": model.state_dict(),           # assumes best weights loaded\n",
    "    \"selection_metric\": \"val_macro_f1\",\n",
    "    \"best_val_f1\": float(best_val_f1) if \"best_val_f1\" in locals() else None,\n",
    "}\n",
    "\n",
    "torch.save(ckpt, CKPT_PATH)\n",
    "print(\"Saved:\", CKPT_PATH.resolve())\n"
   ],
   "id": "18d1b5bb833c0685",
   "outputs": [
    {
     "name": "stdout",
     "output_type": "stream",
     "text": [
      "Saved: C:\\Users\\YehonatanR\\OneDrive\\Documents\\HIT Computer Science\\3rd\\PixelQuality\\PythonProject\\artifacts\\locjnd_cls.pt\n"
     ]
    }
   ],
   "execution_count": 29
  },
  {
   "metadata": {
    "ExecuteTime": {
     "end_time": "2025-09-14T17:38:04.126854Z",
     "start_time": "2025-09-14T17:38:04.117263Z"
    }
   },
   "cell_type": "code",
   "source": [
    "# Sanity check: load and inspect keys (no new imports needed)\n",
    "payload = torch.load(CKPT_PATH, map_location=\"cpu\")\n",
    "print(\"Keys:\", list(payload.keys()))\n",
    "print(\"Model:\", payload[\"model_name\"], payload[\"arch_params\"])\n",
    "print(\"Norm keys:\", list(payload[\"norm\"].keys()))\n",
    "print(\"Best val macro-F1:\", payload[\"best_val_f1\"])\n"
   ],
   "id": "d9e13abefc3ae7f3",
   "outputs": [
    {
     "name": "stdout",
     "output_type": "stream",
     "text": [
      "Keys: ['model_name', 'arch_params', 'config', 'norm', 'state_dict', 'selection_metric', 'best_val_f1']\n",
      "Model: PatchNetDual {'num_classes': 3, 'base': 16, 'drop': 0.3}\n",
      "Norm keys: ['mean_o', 'std_o', 'mean_m', 'std_m', 'mean_d', 'std_d']\n",
      "Best val macro-F1: 0.37623667261484756\n"
     ]
    }
   ],
   "execution_count": 30
  },
  {
   "metadata": {
    "ExecuteTime": {
     "end_time": "2025-09-14T17:38:04.409727Z",
     "start_time": "2025-09-14T17:38:04.405485Z"
    }
   },
   "cell_type": "code",
   "source": "",
   "id": "6ee10716ed9c61a2",
   "outputs": [],
   "execution_count": null
  }
 ],
 "metadata": {
  "kernelspec": {
   "display_name": "Python 3",
   "language": "python",
   "name": "python3"
  },
  "language_info": {
   "codemirror_mode": {
    "name": "ipython",
    "version": 2
   },
   "file_extension": ".py",
   "mimetype": "text/x-python",
   "name": "python",
   "nbconvert_exporter": "python",
   "pygments_lexer": "ipython2",
   "version": "2.7.6"
  }
 },
 "nbformat": 4,
 "nbformat_minor": 5
}
