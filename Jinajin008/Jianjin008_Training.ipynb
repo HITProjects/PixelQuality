{
  "cells": [
    {
      "cell_type": "markdown",
      "id": "9eceb2b2",
      "metadata": {
        "id": "9eceb2b2"
      },
      "source": [
        "# Jianjin008 Training"
      ]
    },
    {
      "cell_type": "code",
      "execution_count": 34,
      "id": "d6c671d4",
      "metadata": {
        "id": "d6c671d4"
      },
      "outputs": [],
      "source": [
        "!apt-get -qq install pv"
      ]
    },
    {
      "cell_type": "code",
      "execution_count": 35,
      "id": "814d0897",
      "metadata": {
        "id": "814d0897"
      },
      "outputs": [],
      "source": [
        "from google.colab import drive\n",
        "from google.colab import files\n",
        "from pathlib import Path\n",
        "from PIL import Image, UnidentifiedImageError\n",
        "import time, torch\n",
        "from scipy.stats import spearmanr, pearsonr\n",
        "from sklearn.metrics import balanced_accuracy_score, confusion_matrix, accuracy_score, precision_recall_fscore_support\n",
        "from sklearn.metrics import confusion_matrix, accuracy_score, balanced_accuracy_score, classification_report\n",
        "from torch.optim.lr_scheduler import ReduceLROnPlateau # Import ReduceLROnPlateau\n",
        "from torch.utils.data import Dataset\n",
        "from torch.utils.data import Dataset, DataLoader\n",
        "from tqdm import tqdm\n",
        "import cv2\n",
        "import json\n",
        "import matplotlib.pyplot as plt\n",
        "import numpy as np\n",
        "import os\n",
        "import os, json\n",
        "import random\n",
        "import shutil\n",
        "import torch\n",
        "import torch.nn as nn\n",
        "import torch.nn.functional as F\n",
        "import torch.optim as optim\n",
        "import torchvision.transforms as T\n",
        "import torchvision.transforms as transforms"
      ]
    },
    {
      "cell_type": "code",
      "execution_count": 36,
      "id": "e5ecc46e",
      "metadata": {
        "colab": {
          "base_uri": "https://localhost:8080/"
        },
        "id": "e5ecc46e",
        "outputId": "9c385ccb-868c-4b90-ca30-dd8afca6132d"
      },
      "outputs": [
        {
          "output_type": "stream",
          "name": "stdout",
          "text": [
            "Drive already mounted at /content/drive; to attempt to forcibly remount, call drive.mount(\"/content/drive\", force_remount=True).\n",
            "DATASET_PATH defined as: /content/drive/MyDrive/Samsung_Project/jianjin008\n"
          ]
        }
      ],
      "source": [
        "####### Inbal's account #######\n",
        "drive.mount('/content/drive')\n",
        "\n",
        "# Install pv for progress visualization\n",
        "\n",
        "DATASET_PATH = \"/content/drive/MyDrive/Samsung_Project/jianjin008\"\n",
        "REF_PATH = os.path.join(DATASET_PATH, \"ref_img\")\n",
        "DIST_PATH = os.path.join(DATASET_PATH, \"jnd_img\")\n",
        "MOS_FILE = os.path.join(DATASET_PATH, \"mos.txt\")\n",
        "PATCHES_PATH = \"/content/drive/MyDrive/Samsung_Project/jianjin008_patches\"\n",
        "\n",
        "print(f\"DATASET_PATH defined as: {DATASET_PATH}\")"
      ]
    },
    {
      "cell_type": "code",
      "execution_count": 37,
      "id": "70432dea",
      "metadata": {
        "colab": {
          "base_uri": "https://localhost:8080/"
        },
        "id": "70432dea",
        "outputId": "f87d3559-4c14-48c0-fa48-bce550a3d106"
      },
      "outputs": [
        {
          "output_type": "stream",
          "name": "stdout",
          "text": [
            "Drive already mounted at /content/drive; to attempt to forcibly remount, call drive.mount(\"/content/drive\", force_remount=True).\n",
            "DATASET_PATH defined as: /content/drive/MyDrive/Samsung_Project/jianjin008\n"
          ]
        }
      ],
      "source": [
        "####### Other accounts #######\n",
        "drive.mount('/content/drive')\n",
        "\n",
        "# Install pv for progress visualization\n",
        "\n",
        "DATASET_PATH = \"/content/drive/MyDrive/Samsung_Project/jianjin008\"\n",
        "REF_PATH = os.path.join(DATASET_PATH, \"ref_img\")\n",
        "DIST_PATH = os.path.join(DATASET_PATH, \"jnd_img\")\n",
        "MOS_FILE = os.path.join(DATASET_PATH, \"mos.txt\")\n",
        "PATCHES_PATH = \"/content/drive/MyDrive//Samsung_Project/jianjin008_patches\"\n",
        "\n",
        "print(f\"DATASET_PATH defined as: {DATASET_PATH}\")"
      ]
    },
    {
      "cell_type": "code",
      "execution_count": 38,
      "id": "5ac93cd7",
      "metadata": {
        "colab": {
          "base_uri": "https://localhost:8080/"
        },
        "id": "5ac93cd7",
        "outputId": "5fd4cfc6-ad9a-419e-eac7-5872f2bb1c2c"
      },
      "outputs": [
        {
          "output_type": "stream",
          "name": "stdout",
          "text": [
            "Dataset directory '/content/drive/MyDrive/Samsung_Project/jianjin008' exists and contains files.\n",
            "Reference images directory '/content/drive/MyDrive/Samsung_Project/jianjin008/ref_img' exists and contains files.\n",
            "Distorted images directory '/content/drive/MyDrive/Samsung_Project/jianjin008/jnd_img' exists and contains files.\n",
            "MOS file '/content/drive/MyDrive/Samsung_Project/jianjin008/mos.txt' found.\n",
            "Patches directory '/content/drive/MyDrive//Samsung_Project/jianjin008_patches' exists.\n",
            "\n",
            "Sample reference image files:\n",
            "['I26.png', 'I05.png', 'I22.png', 'I97.bmp', 'I60.png']\n",
            "\n",
            "Sample distorted image files:\n",
            "['I31_18_01.png', 'I77_14_01.png', 'I96_07_01.bmp', 'I60_10_01.png', 'I11_19_02.png']\n",
            "\n",
            "Sample patch files from /content/drive/MyDrive//Samsung_Project/jianjin008_patches/copy:\n",
            "['blend_patch_0169.png', 'blend_patch_1035.png', 'blend_patch_1833.png', 'blend_patch_0575.png', 'blend_patch_1169.png']\n",
            "\n",
            "Sample lines from MOS file:\n",
            "I12_01_01.png 0.87\n",
            "I17_01_01.png 0.875\n",
            "I17_01_02.png 0.875\n"
          ]
        }
      ],
      "source": [
        "# Sanity check on dataset and patches\n",
        "\n",
        "# Check if the dataset directory exists and contains files\n",
        "if os.path.exists(DATASET_PATH) and os.listdir(DATASET_PATH):\n",
        "    print(f\"Dataset directory '{DATASET_PATH}' exists and contains files.\")\n",
        "else:\n",
        "    print(f\"Error: Dataset directory '{DATASET_PATH}' not found or empty.\")\n",
        "\n",
        "# Check if reference and distorted image directories exist and contain files\n",
        "if os.path.exists(REF_PATH) and os.listdir(REF_PATH):\n",
        "    print(f\"Reference images directory '{REF_PATH}' exists and contains files.\")\n",
        "else:\n",
        "    print(f\"Error: Reference images directory '{REF_PATH}' not found or empty.\")\n",
        "\n",
        "if os.path.exists(DIST_PATH) and os.listdir(DIST_PATH):\n",
        "    print(f\"Distorted images directory '{DIST_PATH}' exists and contains files.\")\n",
        "else:\n",
        "    print(f\"Error: Distorted images directory '{DIST_PATH}' not found or empty.\")\n",
        "\n",
        "# Check if MOS file exists\n",
        "if os.path.exists(MOS_FILE):\n",
        "    print(f\"MOS file '{MOS_FILE}' found.\")\n",
        "else:\n",
        "    print(f\"Error: MOS file '{MOS_FILE}' not found.\")\n",
        "\n",
        "# Check if patches directory exists (it will be created later, so this is just a check)\n",
        "if os.path.exists(PATCHES_PATH):\n",
        "    print(f\"Patches directory '{PATCHES_PATH}' exists.\")\n",
        "else:\n",
        "    print(f\"Patches directory '{PATCHES_PATH}' does not exist\")\n",
        "\n",
        "# Optional: Display a few image file names to confirm data is there\n",
        "if os.path.exists(REF_PATH) and os.listdir(REF_PATH):\n",
        "    print(\"\\nSample reference image files:\")\n",
        "    print(random.sample(os.listdir(REF_PATH), min(5, len(os.listdir(REF_PATH)))))\n",
        "\n",
        "if os.path.exists(DIST_PATH) and os.listdir(DIST_PATH):\n",
        "    print(\"\\nSample distorted image files:\")\n",
        "    print(random.sample(os.listdir(DIST_PATH), min(5, len(os.listdir(DIST_PATH)))))\n",
        "\n",
        "# Display a few image file names from jianjin008_patches/copy\n",
        "COPY_PATCHES_PATH = os.path.join(PATCHES_PATH, \"copy\")\n",
        "if os.path.exists(COPY_PATCHES_PATH) and os.listdir(COPY_PATCHES_PATH):\n",
        "    print(f\"\\nSample patch files from {COPY_PATCHES_PATH}:\")\n",
        "    print(random.sample(os.listdir(COPY_PATCHES_PATH), min(5, len(os.listdir(COPY_PATCHES_PATH)))))\n",
        "elif os.path.exists(COPY_PATCHES_PATH):\n",
        "     print(f\"\\nDirectory '{COPY_PATCHES_PATH}' is empty.\")\n",
        "else:\n",
        "    print(f\"\\nDirectory '{COPY_PATCHES_PATH}' does not exist.\")\n",
        "\n",
        "# Optional: Read a few lines of the MOS file\n",
        "if os.path.exists(MOS_FILE):\n",
        "    print(\"\\nSample lines from MOS file:\")\n",
        "    with open(MOS_FILE, 'r') as f:\n",
        "        for i, line in enumerate(f):\n",
        "            print(line.strip())\n",
        "            if i >= 2: # Print first 5 lines\n",
        "                break"
      ]
    },
    {
      "cell_type": "code",
      "execution_count": 39,
      "id": "9a335461",
      "metadata": {
        "colab": {
          "base_uri": "https://localhost:8080/"
        },
        "id": "9a335461",
        "outputId": "87e517f5-1c14-4529-c175-ec4e46b16fea"
      },
      "outputs": [
        {
          "output_type": "stream",
          "name": "stdout",
          "text": [
            "Number of training samples: 1544\n",
            "Number of testing samples: 386\n"
          ]
        }
      ],
      "source": [
        "class ImagePairDataset(Dataset):\n",
        "    def __init__(self, metadata_file, img_dir):\n",
        "        \"\"\"\n",
        "        Args:\n",
        "            metadata_file (string): Path to the json file with annotations.\n",
        "            img_dir (string): Directory with all the images.\n",
        "        \"\"\"\n",
        "        with open(metadata_file, 'r') as f:\n",
        "            self.metadata = json.load(f)['data']\n",
        "        self.img_dir = img_dir\n",
        "        self.transform = transforms.Compose([\n",
        "            transforms.Grayscale(num_output_channels=1),\n",
        "            transforms.ToTensor(),\n",
        "        ])\n",
        "\n",
        "\n",
        "    def __len__(self):\n",
        "        return len(self.metadata)\n",
        "\n",
        "    def __getitem__(self, idx):\n",
        "        if torch.is_tensor(idx):\n",
        "            idx = idx.tolist()\n",
        "\n",
        "        img_info = self.metadata[idx]\n",
        "        ref_img_name = img_info['ref_image']\n",
        "        dist_img_name = img_info['jnd_image']\n",
        "        score = img_info['score']\n",
        "\n",
        "        ref_img_path = os.path.join(self.img_dir, ref_img_name)\n",
        "        dist_img_path = os.path.join(self.img_dir, dist_img_name)\n",
        "\n",
        "        ref_image = Image.open(ref_img_path)\n",
        "        dist_image = Image.open(dist_img_path)\n",
        "\n",
        "        # Apply transformations\n",
        "        ref_image = self.transform(ref_image)\n",
        "        dist_image = self.transform(dist_image)\n",
        "\n",
        "        return ref_image, dist_image, score\n",
        "\n",
        "# Example usage (optional, for testing the dataset class)\n",
        "train_dataset = ImagePairDataset(metadata_file=os.path.join(PATCHES_PATH, 'train.json'), img_dir='/content/drive/MyDrive/Samsung_Project/jianjin008_patches/copy')\n",
        "test_dataset = ImagePairDataset(metadata_file=os.path.join(PATCHES_PATH, 'test.json'), img_dir='/content/drive/MyDrive/Samsung_Project/jianjin008_patches/copy')\n",
        "\n",
        "print(f\"Number of training samples: {len(train_dataset)}\")\n",
        "print(f\"Number of testing samples: {len(test_dataset)}\")"
      ]
    },
    {
      "cell_type": "markdown",
      "id": "f0b47cf6",
      "metadata": {
        "id": "f0b47cf6"
      },
      "source": [
        "# Model v3"
      ]
    },
    {
      "cell_type": "code",
      "execution_count": 40,
      "id": "569f78c1",
      "metadata": {
        "id": "569f78c1"
      },
      "outputs": [],
      "source": [
        "# =================== Hyperparameters ===================\n",
        "batch_size    = 16\n",
        "learning_rate = 0.002 # Increased learning rate\n",
        "num_epochs    = 20\n",
        "patience      = 10\n",
        "min_delta     = 1e-5\n",
        "\n",
        "use_huber     = True       # set False to use plain MSE\n",
        "huber_beta    = 0.05       # try {0.02, 0.05, 0.10}\n",
        "\n",
        "weight_decay  = 1e-4\n",
        "# use_cosine_lr = True       # leave True unless you prefer OneCycle # Removed scheduler"
      ]
    },
    {
      "cell_type": "code",
      "execution_count": 41,
      "id": "84f53beb",
      "metadata": {
        "id": "84f53beb"
      },
      "outputs": [],
      "source": [
        "# Ensure you have: import os, json, torch, numpy as np, cv2\n",
        "# and from pathlib import Path, and torchvision.transforms as transforms\n",
        "\n",
        "ALLOWED_EXTS = {\".png\", \".jpg\", \".jpeg\", \".bmp\", \".tif\", \".tiff\", \".webp\"}\n",
        "\n",
        "def _index_images_recursive(root: Path):\n",
        "    \"\"\"Return {lower_basename: relative_path_from_root} by scanning root recursively.\"\"\"\n",
        "    files = {}\n",
        "    root = Path(root)\n",
        "    for p in root.rglob(\"*\"):\n",
        "        if p.is_file() and p.suffix.lower() in ALLOWED_EXTS:\n",
        "            files[p.name.lower()] = p.relative_to(root).as_posix()\n",
        "    return files\n",
        "\n",
        "def _stem_index(root: Path):\n",
        "    \"\"\"Return {lower_stem: real_filename} for direct children in root (handles ext mismatches).\"\"\"\n",
        "    idx = {}\n",
        "    root = Path(root)\n",
        "    for p in root.iterdir():\n",
        "        if p.is_file() and p.suffix.lower() in ALLOWED_EXTS:\n",
        "            idx[p.stem.lower()] = p.name\n",
        "    return idx\n",
        "\n",
        "# =================== Dataset (clean vs distorted + |diff|) ===================\n",
        "class ImagePairDatasetPatches(Dataset):\n",
        "    def __init__(self, metadata_file, patch_dir, ref_img_original_dir):\n",
        "        with open(metadata_file, 'r') as f:\n",
        "            self.metadata = json.load(f)['data']\n",
        "\n",
        "        self.patch_dir = Path(patch_dir)\n",
        "        self.ref_img_original_dir = Path(ref_img_original_dir)\n",
        "\n",
        "        # Normalize only RGB; keep absdiff in raw [0,1]\n",
        "        self.rgb_transform  = transforms.Compose([\n",
        "            transforms.ToTensor(),\n",
        "            transforms.Normalize(mean=[0.5,0.5,0.5], std=[0.25,0.25,0.25]),\n",
        "        ])\n",
        "        self.to_tensor_only = transforms.ToTensor()\n",
        "\n",
        "        # Build robust indices\n",
        "        # 1) Distorted patches: scan patch_dir recursively (handles your 'copy' only layout with both copy/blend files)\n",
        "        self.patch_files_map = _index_images_recursive(self.patch_dir)  # {lower_basename: relative_path_from_root}\n",
        "\n",
        "        # 2) Reference images: allow extension mismatch by indexing by stem\n",
        "        self.ref_by_stem = _stem_index(self.ref_img_original_dir)       # {lower_stem: real_filename}\n",
        "\n",
        "        if not self.patch_files_map:\n",
        "            print(f\"[WARN] No image files found under {self.patch_dir} (recursively).\")\n",
        "        if not self.ref_by_stem:\n",
        "            print(f\"[WARN] No reference images found directly under {self.ref_img_original_dir}.\")\n",
        "\n",
        "    def __len__(self):\n",
        "        return len(self.metadata)\n",
        "\n",
        "    def __getitem__(self, idx):\n",
        "        if torch.is_tensor(idx):\n",
        "            idx = idx.tolist()\n",
        "        info = self.metadata[idx]\n",
        "\n",
        "        patch_filename = os.path.basename(info['unique_sample_id'])  # e.g., 'blend_patch_0975.png' or 'copy_patch_0956.png'\n",
        "        ref_name       = os.path.basename(info['clean_image'])       # e.g., 'I01.png' (disk may have I01.bmp)\n",
        "        x, y, w, h     = info['metadata']['roi']\n",
        "        score          = float(info['score'])\n",
        "\n",
        "        # ---- resolve distorted patch path (case-insensitive, any subfolder under patch_dir) ----\n",
        "        key = patch_filename.lower()\n",
        "        if key not in self.patch_files_map:\n",
        "            # fallback: try by stem (covers extension mismatches in unique_sample_id)\n",
        "            stem = Path(patch_filename).stem.lower()\n",
        "            candidates = [k for k in self.patch_files_map.keys() if Path(k).stem.lower() == stem]\n",
        "            if candidates:\n",
        "                key = candidates[0]\n",
        "            else:\n",
        "                some = list(self.patch_files_map.keys())[:10]\n",
        "                print(f\"FileNotFoundError: Patch '{patch_filename}' not found anywhere under '{self.patch_dir}'. Examples: {some}\")\n",
        "                return None\n",
        "        dist_path = str(self.patch_dir / self.patch_files_map[key])\n",
        "\n",
        "        # ---- resolve reference image path by stem (ignoring extension mismatches) ----\n",
        "        ref_stem = Path(ref_name).stem.lower()\n",
        "        if ref_stem not in self.ref_by_stem:\n",
        "            some = list(self.ref_by_stem.keys())[:10]\n",
        "            print(f\"FileNotFoundError: Ref '{ref_name}' (stem='{ref_stem}') not in '{self.ref_img_original_dir}'. Example stems: {some}\")\n",
        "            return None\n",
        "        ref_path = str(self.ref_img_original_dir / self.ref_by_stem[ref_stem])\n",
        "\n",
        "        # ---- load & crop using OpenCV ----\n",
        "        try:\n",
        "            dist_img_np = cv2.imread(dist_path)\n",
        "            ref_img_np  = cv2.imread(ref_path)\n",
        "\n",
        "            if dist_img_np is None or ref_img_np is None:\n",
        "                print(f\"Skipping corrupted or missing image: {ref_path} or {dist_path}\")\n",
        "                return None\n",
        "\n",
        "            # Convert BGR to RGB\n",
        "            dist_img_np = cv2.cvtColor(dist_img_np, cv2.COLOR_BGR2RGB)\n",
        "            ref_img_np  = cv2.cvtColor(ref_img_np, cv2.COLOR_BGR2RGB)\n",
        "\n",
        "            # Clip ROI to bounds and crop reference image patch\n",
        "            H, W = ref_img_np.shape[:2]\n",
        "            x0 = max(0, min(W, x)); y0 = max(0, min(H, y))\n",
        "            x1 = max(0, min(W, x+w)); y1 = max(0, min(H, y+h))\n",
        "            ref_patch_np = ref_img_np[y0:y1, x0:x1]\n",
        "\n",
        "        except Exception as e:\n",
        "            print(f\"Skipping image due to error during loading/processing: {ref_path} or {dist_path} - {e}\")\n",
        "            return None\n",
        "\n",
        "        if ref_patch_np.size == 0:\n",
        "            print(f\"[EMPTY ROI] idx={idx} roi={(x,y,w,h)} -> ({x0},{y0},{x1},{y1})\")\n",
        "            return None\n",
        "\n",
        "        # Convert numpy arrays to tensors and apply normalization manually\n",
        "        ref_01_np  = ref_patch_np.astype(np.float32) / 255.0\n",
        "        dist_01_np = dist_img_np.astype(np.float32)  / 255.0\n",
        "\n",
        "        # If shapes don’t match (shouldn’t happen with pre-cropped patches), center-crop the larger to the smaller\n",
        "        if ref_01_np.shape[:2] != dist_01_np.shape[:2]:\n",
        "            h = min(ref_01_np.shape[0], dist_01_np.shape[0])\n",
        "            w = min(ref_01_np.shape[1], dist_01_np.shape[1])\n",
        "            def center_crop(img, h, w):\n",
        "                Hh, Ww = img.shape[:2]\n",
        "                yy = max(0, (Hh - h)//2); xx = max(0, (Ww - w)//2)\n",
        "                return img[yy:yy+h, xx:xx+w]\n",
        "            ref_01_np  = center_crop(ref_01_np,  h, w)\n",
        "            dist_01_np = center_crop(dist_01_np, h, w)\n",
        "\n",
        "        ref_01  = torch.from_numpy(ref_01_np).permute(2, 0, 1)  # [C,H,W]\n",
        "        dist_01 = torch.from_numpy(dist_01_np).permute(2, 0, 1) # [C,H,W]\n",
        "\n",
        "        absdiff = torch.abs(dist_01 - ref_01)  # [3,H,W]\n",
        "\n",
        "        # Apply normalization manually\n",
        "        mean = torch.tensor([0.5, 0.5, 0.5]).view(3, 1, 1)\n",
        "        std  = torch.tensor([0.25, 0.25, 0.25]).view(3, 1, 1)\n",
        "        ref_norm  = (ref_01  - mean) / std\n",
        "        dist_norm = (dist_01 - mean) / std\n",
        "\n",
        "        stacked = torch.cat([ref_norm, dist_norm, absdiff], dim=0)  # [9,H,W]\n",
        "        return stacked, score"
      ]
    },
    {
      "cell_type": "code",
      "execution_count": 42,
      "id": "696f1d04",
      "metadata": {
        "id": "696f1d04"
      },
      "outputs": [],
      "source": [
        "# =================== TinyPatchRegressor (adapted) ===================\n",
        "class TinyPatchRegressor(nn.Module):\n",
        "    \"\"\"\n",
        "    20x20-safe CNN:\n",
        "    Conv3x3(->32) + GN -> ReLU\n",
        "    Conv1x1(->16) + GN -> ReLU\n",
        "    Conv3x3(->8)  -> ReLU\n",
        "    GAP -> Dropout -> Linear(8->1)\n",
        "    \"\"\"\n",
        "    def __init__(self, in_channels=9): # Removed use_groupnorm parameter\n",
        "        super().__init__()\n",
        "        self.conv1 = nn.Conv2d(in_channels, 32, kernel_size=3, padding=1)\n",
        "        self.conv2 = nn.Conv2d(32, 16, kernel_size=1)\n",
        "        self.conv3 = nn.Conv2d(16, 8, kernel_size=3, padding=1)\n",
        "\n",
        "        self.gap     = nn.AdaptiveAvgPool2d(1)  # [B,8,1,1]\n",
        "        # self.dropout = nn.Dropout(0.10) # Removed dropout\n",
        "        self.fc      = nn.Linear(8, 1)          # linear head; no sigmoid\n",
        "\n",
        "        # Kaiming/Xavier init\n",
        "        for m in self.modules():\n",
        "            if isinstance(m, nn.Conv2d):\n",
        "                nn.init.kaiming_normal_(m.weight, nonlinearity='relu')\n",
        "                if m.bias is not None: nn.init.zeros_(m.bias)\n",
        "            if isinstance(m, nn.Linear):\n",
        "                nn.init.xavier_normal_(m.weight); nn.init.zeros_(m.bias)\n",
        "\n",
        "    def forward(self, x):\n",
        "        x = F.relu(self.conv1(x)) # Removed GroupNorm\n",
        "        x = F.relu(self.conv2(x)) # Removed GroupNorm\n",
        "        x = F.relu(self.conv3(x))           # [B,8,H,W]\n",
        "        x = self.gap(x).view(x.size(0), 8)  # [B,8]\n",
        "        # x = self.dropout(x) # Removed dropout\n",
        "        x = self.fc(x)                      # [B,1]\n",
        "        return x"
      ]
    },
    {
      "cell_type": "code",
      "execution_count": 43,
      "id": "20d13289",
      "metadata": {
        "id": "20d13289"
      },
      "outputs": [],
      "source": [
        "# =================== Helpers ===================\n",
        "@torch.no_grad()\n",
        "def eval_metrics_regression(model, loader, device):\n",
        "    model.eval()\n",
        "    ys, ps = [], []\n",
        "    for batch in loader: # Iterate over batches\n",
        "        if batch is None: # Skip empty batches\n",
        "            continue\n",
        "        xb, yb = batch\n",
        "        xb = xb.to(device).float()\n",
        "        pb = model(xb).cpu().numpy().ravel()\n",
        "        ys.append(np.asarray(yb).ravel())\n",
        "        ps.append(pb)\n",
        "\n",
        "    if not ys: # Handle case where all batches were empty\n",
        "        return float('nan'), float('nan'), float('nan')\n",
        "\n",
        "    y = np.concatenate(ys)\n",
        "    p = np.concatenate(ps)\n",
        "    sp = spearmanr(y, p).correlation\n",
        "    pr = pearsonr(y, p)[0]\n",
        "    mse = ((p - y)**2).mean()\n",
        "    return float(sp), float(pr), float(mse)\n",
        "\n",
        "# =================== Paths (assume defined): PATCHES_PATH, REF_PATH ===================\n",
        "# Redefine paths as they might not be accessible from previous cells\n",
        "DATASET_PATH = \"/content/drive/MyDrive/Samsung_Project/jianjin008\"\n",
        "REF_PATH = os.path.join(DATASET_PATH, \"ref_img\")\n",
        "DIST_PATH = os.path.join(DATASET_PATH, \"jnd_img\")\n",
        "MOS_FILE = os.path.join(DATASET_PATH, \"mos.txt\")\n",
        "PATCHES_PATH = \"/content/drive/MyDrive/Samsung_Project/jianjin008_patches\"\n",
        "\n",
        "\n",
        "TRAIN_METADATA_FILE = os.path.join(PATCHES_PATH, \"train.json\")\n",
        "TEST_METADATA_FILE  = os.path.join(PATCHES_PATH, \"test.json\")\n",
        "PATCHES_DIR         = PATCHES_PATH\n",
        "REF_IMG_ORIGINAL_DIR= REF_PATH\n",
        "\n",
        "# =================== DataLoaders ===================\n",
        "train_dataset = ImagePairDatasetPatches(TRAIN_METADATA_FILE, PATCHES_DIR, REF_IMG_ORIGINAL_DIR)\n",
        "test_dataset  = ImagePairDatasetPatches(TEST_METADATA_FILE,  PATCHES_DIR, REF_IMG_ORIGINAL_DIR)\n",
        "\n",
        "# Custom collate function to handle None values from the dataset\n",
        "def collate_fn(batch):\n",
        "    batch = [item for item in batch if item is not None] # Filter out None values\n",
        "    if not batch:\n",
        "        return None # Return None if the batch is empty after filtering\n",
        "\n",
        "    return torch.utils.data.dataloader.default_collate(batch)\n",
        "\n",
        "\n",
        "train_loader = DataLoader(train_dataset, batch_size=batch_size, shuffle=True,  num_workers=2, pin_memory=True, collate_fn=collate_fn)\n",
        "val_loader   = DataLoader(test_dataset,  batch_size=batch_size, shuffle=False, num_workers=2, pin_memory=True, collate_fn=collate_fn)"
      ]
    },
    {
      "cell_type": "code",
      "execution_count": 44,
      "id": "5d1bff4a",
      "metadata": {
        "colab": {
          "base_uri": "https://localhost:8080/"
        },
        "id": "5d1bff4a",
        "outputId": "a2b353a0-3aef-44b1-e49c-9913d5598a32"
      },
      "outputs": [
        {
          "output_type": "stream",
          "name": "stdout",
          "text": [
            "Using device: cuda\n",
            "\n",
            "Model Architecture:\n",
            "TinyPatchRegressor(\n",
            "  (conv1): Conv2d(9, 32, kernel_size=(3, 3), stride=(1, 1), padding=(1, 1))\n",
            "  (conv2): Conv2d(32, 16, kernel_size=(1, 1), stride=(1, 1))\n",
            "  (conv3): Conv2d(16, 8, kernel_size=(3, 3), stride=(1, 1), padding=(1, 1))\n",
            "  (gap): AdaptiveAvgPool2d(output_size=1)\n",
            "  (fc): Linear(in_features=8, out_features=1, bias=True)\n",
            ")\n"
          ]
        },
        {
          "output_type": "stream",
          "name": "stderr",
          "text": [
            "/tmp/ipython-input-260062396.py:24: FutureWarning: `torch.cuda.amp.GradScaler(args...)` is deprecated. Please use `torch.amp.GradScaler('cuda', args...)` instead.\n",
            "  scaler = torch.cuda.amp.GradScaler(enabled=(device.type == \"cuda\"))\n"
          ]
        }
      ],
      "source": [
        "# =================== Setup ===================\n",
        "device = torch.device(\"cuda\" if torch.cuda.is_available() else \"cpu\")\n",
        "model  = TinyPatchRegressor(in_channels=9).to(device)\n",
        "print(f\"Using device: {device}\\n\\nModel Architecture:\\n{model}\")\n",
        "\n",
        "# Loss / Optimizer\n",
        "base_loss = nn.SmoothL1Loss(beta=huber_beta) if use_huber else nn.MSELoss()\n",
        "optimizer = optim.Adam(model.parameters(), lr=learning_rate, weight_decay=weight_decay)\n",
        "\n",
        "# ---- Gentle ReduceLROnPlateau on ValMSE(metric) ----\n",
        "scheduler = ReduceLROnPlateau(\n",
        "    optimizer,\n",
        "    mode='min',           # we minimize ValMSE\n",
        "    factor=0.9,           # mild reduction (30% cut)\n",
        "    patience=5,           # wait 3 epochs of no ValMSE improvement\n",
        "    threshold=3e-4,       # improvement must beat this\n",
        "    threshold_mode='abs', # absolute delta, not relative\n",
        "    cooldown=2,           # 1 epoch cooldown after LR reduction\n",
        "    min_lr=1e-5\n",
        ")\n",
        "\n",
        "\n",
        "# AMP scaler\n",
        "scaler = torch.cuda.amp.GradScaler(enabled=(device.type == \"cuda\"))\n",
        "\n",
        "# ---- Early stopping on ValMSE(metric) ----\n",
        "patience = 8              # keep this >= scheduler.patience + 2\n",
        "min_delta_metric = 1e-4\n",
        "best_metric = float('inf')\n",
        "best_epoch = -1\n",
        "epochs_no_improve = 0\n",
        "\n",
        "# Logs\n",
        "train_losses, val_losses, val_mse = [], [], []\n",
        "val_spearman, val_pearson = [], []\n",
        "lrs = []"
      ]
    },
    {
      "cell_type": "code",
      "execution_count": 45,
      "id": "1cf34c07",
      "metadata": {
        "id": "1cf34c07"
      },
      "outputs": [],
      "source": [
        "patience = 8\n",
        "min_delta_metric = 1e-4\n",
        "best_metric = float('inf')\n",
        "best_epoch = -1\n",
        "epochs_no_improve = 0"
      ]
    },
    {
      "cell_type": "code",
      "execution_count": 46,
      "id": "ad60318c",
      "metadata": {
        "colab": {
          "base_uri": "https://localhost:8080/"
        },
        "id": "ad60318c",
        "outputId": "9ac394d5-9798-4004-ec1c-9545a5148cdf"
      },
      "outputs": [
        {
          "output_type": "stream",
          "name": "stdout",
          "text": [
            "\n",
            "Starting training...\n"
          ]
        },
        {
          "output_type": "stream",
          "name": "stderr",
          "text": [
            "Epoch 1/20: 100%|██████████| 97/97 [00:18<00:00,  5.27it/s]\n"
          ]
        },
        {
          "output_type": "stream",
          "name": "stdout",
          "text": [
            "Epoch [1/20]  Train: 0.164189  Val loss: 0.156466  ValMSE(metric): 0.048410  LR: 0.002\n",
            "  ↳ New best ValMSE: 0.048410 (epoch 1); saved best_model_metric.pth\n"
          ]
        },
        {
          "output_type": "stream",
          "name": "stderr",
          "text": [
            "Epoch 2/20: 100%|██████████| 97/97 [00:18<00:00,  5.26it/s]\n"
          ]
        },
        {
          "output_type": "stream",
          "name": "stdout",
          "text": [
            "Epoch [2/20]  Train: 0.144584  Val loss: 0.149538  ValMSE(metric): 0.045152  LR: 0.002\n",
            "  ↳ New best ValMSE: 0.045152 (epoch 2); saved best_model_metric.pth\n"
          ]
        },
        {
          "output_type": "stream",
          "name": "stderr",
          "text": [
            "Epoch 3/20: 100%|██████████| 97/97 [00:18<00:00,  5.18it/s]\n"
          ]
        },
        {
          "output_type": "stream",
          "name": "stdout",
          "text": [
            "Epoch [3/20]  Train: 0.140452  Val loss: 0.140714  ValMSE(metric): 0.042952  LR: 0.002\n",
            "  ↳ New best ValMSE: 0.042952 (epoch 3); saved best_model_metric.pth\n"
          ]
        },
        {
          "output_type": "stream",
          "name": "stderr",
          "text": [
            "Epoch 4/20: 100%|██████████| 97/97 [00:18<00:00,  5.20it/s]\n"
          ]
        },
        {
          "output_type": "stream",
          "name": "stdout",
          "text": [
            "Epoch [4/20]  Train: 0.136271  Val loss: 0.137295  ValMSE(metric): 0.039613  LR: 0.002\n",
            "  ↳ New best ValMSE: 0.039613 (epoch 4); saved best_model_metric.pth\n"
          ]
        },
        {
          "output_type": "stream",
          "name": "stderr",
          "text": [
            "Epoch 5/20: 100%|██████████| 97/97 [00:18<00:00,  5.12it/s]\n"
          ]
        },
        {
          "output_type": "stream",
          "name": "stdout",
          "text": [
            "Epoch [5/20]  Train: 0.135536  Val loss: 0.140059  ValMSE(metric): 0.041617  LR: 0.002\n",
            "  ↳ No ValMSE improvement for 1 epoch(s).\n"
          ]
        },
        {
          "output_type": "stream",
          "name": "stderr",
          "text": [
            "Epoch 6/20: 100%|██████████| 97/97 [00:19<00:00,  5.04it/s]\n"
          ]
        },
        {
          "output_type": "stream",
          "name": "stdout",
          "text": [
            "Epoch [6/20]  Train: 0.134197  Val loss: 0.147328  ValMSE(metric): 0.043816  LR: 0.002\n",
            "  ↳ No ValMSE improvement for 2 epoch(s).\n"
          ]
        },
        {
          "output_type": "stream",
          "name": "stderr",
          "text": [
            "Epoch 7/20: 100%|██████████| 97/97 [00:19<00:00,  5.04it/s]\n"
          ]
        },
        {
          "output_type": "stream",
          "name": "stdout",
          "text": [
            "Epoch [7/20]  Train: 0.132956  Val loss: 0.133957  ValMSE(metric): 0.038598  LR: 0.002\n",
            "  ↳ New best ValMSE: 0.038598 (epoch 7); saved best_model_metric.pth\n"
          ]
        },
        {
          "output_type": "stream",
          "name": "stderr",
          "text": [
            "Epoch 8/20: 100%|██████████| 97/97 [00:18<00:00,  5.12it/s]\n"
          ]
        },
        {
          "output_type": "stream",
          "name": "stdout",
          "text": [
            "Epoch [8/20]  Train: 0.131436  Val loss: 0.139741  ValMSE(metric): 0.039880  LR: 0.002\n",
            "  ↳ No ValMSE improvement for 1 epoch(s).\n"
          ]
        },
        {
          "output_type": "stream",
          "name": "stderr",
          "text": [
            "Epoch 9/20: 100%|██████████| 97/97 [00:18<00:00,  5.34it/s]\n"
          ]
        },
        {
          "output_type": "stream",
          "name": "stdout",
          "text": [
            "Epoch [9/20]  Train: 0.129346  Val loss: 0.133824  ValMSE(metric): 0.037097  LR: 0.002\n",
            "  ↳ New best ValMSE: 0.037097 (epoch 9); saved best_model_metric.pth\n"
          ]
        },
        {
          "output_type": "stream",
          "name": "stderr",
          "text": [
            "Epoch 10/20: 100%|██████████| 97/97 [00:19<00:00,  5.10it/s]\n"
          ]
        },
        {
          "output_type": "stream",
          "name": "stdout",
          "text": [
            "Epoch [10/20]  Train: 0.127341  Val loss: 0.139057  ValMSE(metric): 0.040212  LR: 0.002\n",
            "  ↳ No ValMSE improvement for 1 epoch(s).\n"
          ]
        },
        {
          "output_type": "stream",
          "name": "stderr",
          "text": [
            "Epoch 11/20: 100%|██████████| 97/97 [00:18<00:00,  5.32it/s]\n"
          ]
        },
        {
          "output_type": "stream",
          "name": "stdout",
          "text": [
            "Epoch [11/20]  Train: 0.128990  Val loss: 0.148778  ValMSE(metric): 0.044752  LR: 0.002\n",
            "  ↳ No ValMSE improvement for 2 epoch(s).\n"
          ]
        },
        {
          "output_type": "stream",
          "name": "stderr",
          "text": [
            "Epoch 12/20: 100%|██████████| 97/97 [00:18<00:00,  5.26it/s]\n"
          ]
        },
        {
          "output_type": "stream",
          "name": "stdout",
          "text": [
            "Epoch [12/20]  Train: 0.128221  Val loss: 0.134784  ValMSE(metric): 0.038086  LR: 0.002\n",
            "  ↳ No ValMSE improvement for 3 epoch(s).\n"
          ]
        },
        {
          "output_type": "stream",
          "name": "stderr",
          "text": [
            "Epoch 13/20: 100%|██████████| 97/97 [00:18<00:00,  5.32it/s]\n"
          ]
        },
        {
          "output_type": "stream",
          "name": "stdout",
          "text": [
            "Epoch [13/20]  Train: 0.128880  Val loss: 0.134361  ValMSE(metric): 0.037680  LR: 0.002\n",
            "  ↳ No ValMSE improvement for 4 epoch(s).\n"
          ]
        },
        {
          "output_type": "stream",
          "name": "stderr",
          "text": [
            "Epoch 14/20: 100%|██████████| 97/97 [00:18<00:00,  5.26it/s]\n"
          ]
        },
        {
          "output_type": "stream",
          "name": "stdout",
          "text": [
            "Epoch [14/20]  Train: 0.127795  Val loss: 0.134162  ValMSE(metric): 0.037012  LR: 0.002\n",
            "  ↳ No ValMSE improvement for 5 epoch(s).\n"
          ]
        },
        {
          "output_type": "stream",
          "name": "stderr",
          "text": [
            "Epoch 15/20: 100%|██████████| 97/97 [00:19<00:00,  5.08it/s]\n"
          ]
        },
        {
          "output_type": "stream",
          "name": "stdout",
          "text": [
            "Epoch [15/20]  Train: 0.127152  Val loss: 0.141715  ValMSE(metric): 0.040153  LR: 0.002\n",
            "  ↳ No ValMSE improvement for 6 epoch(s).\n"
          ]
        },
        {
          "output_type": "stream",
          "name": "stderr",
          "text": [
            "Epoch 16/20: 100%|██████████| 97/97 [00:19<00:00,  4.98it/s]\n"
          ]
        },
        {
          "output_type": "stream",
          "name": "stdout",
          "text": [
            "Epoch [16/20]  Train: 0.124319  Val loss: 0.146751  ValMSE(metric): 0.042314  LR: 0.0018\n",
            "  ↳ No ValMSE improvement for 7 epoch(s).\n"
          ]
        },
        {
          "output_type": "stream",
          "name": "stderr",
          "text": [
            "Epoch 17/20: 100%|██████████| 97/97 [00:19<00:00,  5.01it/s]\n"
          ]
        },
        {
          "output_type": "stream",
          "name": "stdout",
          "text": [
            "Epoch [17/20]  Train: 0.124896  Val loss: 0.135114  ValMSE(metric): 0.038939  LR: 0.0018\n",
            "  ↳ No ValMSE improvement for 8 epoch(s).\n",
            "Early stopping at epoch 17 (no ValMSE improvement ≥ 0.0001 for 8 epochs). Best ValMSE: 0.037097 @ epoch 9.\n",
            "Finished Training.\n"
          ]
        }
      ],
      "source": [
        "# =================== Training ===================\n",
        "print(\"\\nStarting training...\")\n",
        "for epoch in range(num_epochs):\n",
        "    model.train()\n",
        "    running = 0.0\n",
        "    num_samples = 0\n",
        "\n",
        "    for batch_idx, batch in enumerate(tqdm(train_loader, desc=f\"Epoch {epoch+1}/{num_epochs}\")):\n",
        "        if batch is None: # Skip empty batches\n",
        "            continue\n",
        "\n",
        "        xb, yb = batch\n",
        "        xb = xb.to(device).float()\n",
        "        yb = yb.to(device).float().unsqueeze(1)   # [B,1]\n",
        "\n",
        "        optimizer.zero_grad(set_to_none=True)\n",
        "        with torch.amp.autocast('cuda', enabled=(device.type == \"cuda\")):\n",
        "            pred = model(xb)                      # [B,1]\n",
        "            loss = base_loss(pred, yb)\n",
        "        scaler.scale(loss).backward()\n",
        "        scaler.step(optimizer)\n",
        "        scaler.update()\n",
        "\n",
        "        running += loss.item() * xb.size(0)\n",
        "        num_samples += xb.size(0)\n",
        "\n",
        "\n",
        "    train_loss = running / num_samples if num_samples > 0 else 0\n",
        "\n",
        "    # ---------- Validation ----------\n",
        "    model.eval()\n",
        "    with torch.no_grad():\n",
        "        running_val = 0.0\n",
        "        num_val_samples = 0\n",
        "        for batch_idx, batch in enumerate(val_loader):\n",
        "            if batch is None: # Skip empty batches\n",
        "                continue\n",
        "\n",
        "            xb, yb = batch\n",
        "            xb = xb.to(device).float()\n",
        "            yb = yb.to(device).float().unsqueeze(1)\n",
        "            with torch.amp.autocast('cuda', enabled=(device.type == \"cuda\")):\n",
        "                pred = model(xb)\n",
        "                vloss = base_loss(pred, yb)\n",
        "            running_val += vloss.item() * xb.size(0)\n",
        "            num_val_samples += xb.size(0)\n",
        "\n",
        "    val_loss = running_val / num_val_samples if num_val_samples > 0 else 0\n",
        "\n",
        "    # Correlations + true MSE metric\n",
        "    sp, pr, mse_metric = eval_metrics_regression(model, val_loader, device)\n",
        "\n",
        "    # Logging\n",
        "    train_losses.append(train_loss)\n",
        "    val_losses.append(val_loss)\n",
        "    val_mse.append(mse_metric)\n",
        "    val_spearman.append(sp)\n",
        "    val_pearson.append(pr)\n",
        "    current_lr = optimizer.param_groups[0]['lr']\n",
        "    lrs.append(current_lr)\n",
        "\n",
        "    print(f\"Epoch [{epoch+1}/{num_epochs}]  \"\n",
        "          f\"Train: {train_loss:.6f}  Val loss: {val_loss:.6f}  \"\n",
        "          f\"ValMSE(metric): {mse_metric:.6f}  \"\n",
        "          f\"LR: {current_lr:.6g}\")\n",
        "\n",
        "    # Early stopping on ValMSE(metric)\n",
        "    if mse_metric < (best_metric - min_delta_metric):\n",
        "        best_metric = mse_metric\n",
        "        best_epoch = epoch + 1\n",
        "        epochs_no_improve = 0\n",
        "        torch.save(model.state_dict(), \"best_model_metric.pth\")\n",
        "        print(f\"  ↳ New best ValMSE: {best_metric:.6f} (epoch {best_epoch}); saved best_model_metric.pth\")\n",
        "    else:\n",
        "        epochs_no_improve += 1\n",
        "        print(f\"  ↳ No ValMSE improvement for {epochs_no_improve} epoch(s).\")\n",
        "        if epochs_no_improve >= patience:\n",
        "            print(f\"Early stopping at epoch {epoch+1} \"\n",
        "                  f\"(no ValMSE improvement ≥ {min_delta_metric} for {patience} epochs). \"\n",
        "                  f\"Best ValMSE: {best_metric:.6f} @ epoch {best_epoch}.\")\n",
        "            break\n",
        "\n",
        "    if scheduler is not None: # Step the scheduler after validation metrics are calculated\n",
        "        scheduler.step(mse_metric)\n",
        "\n",
        "print(\"Finished Training.\")\n",
        "\n",
        "# Lists ready for plotting:\n",
        "# train_losses, val_losses, val_mse, val_spearman, val_pearson, lrs"
      ]
    },
    {
      "cell_type": "code",
      "execution_count": 47,
      "id": "3bb29f4a",
      "metadata": {
        "colab": {
          "base_uri": "https://localhost:8080/",
          "height": 564
        },
        "id": "3bb29f4a",
        "outputId": "d1495066-3a13-4668-cf08-c36a371dc51e"
      },
      "outputs": [
        {
          "output_type": "display_data",
          "data": {
            "text/plain": [
              "<Figure size 800x600 with 1 Axes>"
            ],
            "image/png": "[encoded data removed]"
          },
          "metadata": {}
        }
      ],
      "source": [
        "# Plot training & validation loss\n",
        "plt.figure(figsize=(8, 6))\n",
        "plt.plot(train_losses, label=\"Train Loss\")\n",
        "plt.plot(val_losses, label=\"Validation Loss\")\n",
        "plt.xlabel(\"Epoch\")\n",
        "plt.ylabel(\"Loss\")\n",
        "plt.title(\"Training vs Validation Loss\")\n",
        "plt.legend()\n",
        "plt.grid(True)\n",
        "plt.show()"
      ]
    },
    {
      "cell_type": "code",
      "execution_count": 48,
      "id": "ae7b1f60",
      "metadata": {
        "colab": {
          "base_uri": "https://localhost:8080/"
        },
        "id": "ae7b1f60",
        "outputId": "6596b993-28a5-4a21-ae41-e1cbf8005618"
      },
      "outputs": [
        {
          "output_type": "stream",
          "name": "stdout",
          "text": [
            "Mounted at /content/drive\n",
            "Saved: /content/drive/MyDrive/Samsung/src/saves/tinypatchregressor_jianjin008_best.pth\n"
          ]
        }
      ],
      "source": [
        "drive.mount('/content/drive', force_remount=True)\n",
        "\n",
        "save_dir = \"/content/drive/MyDrive/Samsung/src/saves\"\n",
        "os.makedirs(save_dir, exist_ok=True)\n",
        "CKPT_PATH = os.path.join(save_dir, \"tinypatchregressor_jianjin008_best.pth\")\n",
        "\n",
        "torch.save(model.state_dict(), CKPT_PATH)\n",
        "print(\"Saved:\", CKPT_PATH)"
      ]
    },
    {
      "cell_type": "markdown",
      "id": "90b9384f",
      "metadata": {
        "id": "90b9384f"
      },
      "source": [
        "# Samsung Inference"
      ]
    },
    {
      "cell_type": "code",
      "execution_count": 49,
      "id": "3e92b7aa",
      "metadata": {
        "colab": {
          "base_uri": "https://localhost:8080/"
        },
        "id": "3e92b7aa",
        "outputId": "b280795b-d1ec-4a00-e39f-29a436b1b60c"
      },
      "outputs": [
        {
          "output_type": "stream",
          "name": "stdout",
          "text": [
            "Zip file found at '/content/drive/MyDrive/Samsung_Datasets/dataset.zip'\n",
            "Extraction directory '/content/drive/MyDrive/Samsung_Datasets/dataset_extracted' already exists and is not empty. Skipping extraction.\n"
          ]
        }
      ],
      "source": [
        "zip_file_path = \"/content/drive/MyDrive/Samsung_Datasets/dataset.zip\"\n",
        "extract_path = \"/content/drive/MyDrive/Samsung_Datasets/dataset_extracted\"\n",
        "\n",
        "# Check if the zip file exists\n",
        "if not os.path.exists(zip_file_path):\n",
        "    print(f\"Error: Zip file not found at '{zip_file_path}'\")\n",
        "else:\n",
        "    print(f\"Zip file found at '{zip_file_path}'\")\n",
        "    # Check if the extraction directory exists and is not empty\n",
        "    if os.path.exists(extract_path) and os.listdir(extract_path):\n",
        "        print(f\"Extraction directory '{extract_path}' already exists and is not empty. Skipping extraction.\")\n",
        "    else:\n",
        "        # Create the extraction directory if it doesn't exist\n",
        "        os.makedirs(extract_path, exist_ok=True)\n",
        "        print(f\"Extraction directory '{extract_path}' not found or is empty. Starting extraction...\")\n",
        "        try:\n",
        "            with zipfile.ZipFile(zip_file_path, 'r') as zip_ref:\n",
        "                zip_ref.extractall(extract_path)\n",
        "            print(f\"Successfully extracted '{zip_file_path}' to '{extract_path}'\")\n",
        "        except Exception as e:\n",
        "            print(f\"Error during extraction: {e}\")"
      ]
    },
    {
      "cell_type": "code",
      "execution_count": 50,
      "id": "11fe079d",
      "metadata": {
        "colab": {
          "base_uri": "https://localhost:8080/"
        },
        "id": "11fe079d",
        "outputId": "f633e997-030d-4830-9d6d-c1c9c29f224d"
      },
      "outputs": [
        {
          "output_type": "stream",
          "name": "stdout",
          "text": [
            "Number of image files in 'clean': 1849\n",
            "Number of image files in 'new': 1849\n",
            "Number of image files in 'ref': 1849\n"
          ]
        }
      ],
      "source": [
        "base_folder = \"/content/drive/MyDrive/Samsung_Datasets/dataset_extracted/dataset\"\n",
        "subfolders_to_check = [\"clean\", \"new\", \"ref\"]\n",
        "image_extensions = ['.jpg', '.jpeg', '.png', '.bmp', '.tiff'] # Common image file extensions\n",
        "\n",
        "for subfolder_name in subfolders_to_check:\n",
        "    subfolder_path = os.path.join(base_folder, subfolder_name)\n",
        "    if os.path.exists(subfolder_path) and os.path.isdir(subfolder_path):\n",
        "        image_count = 0\n",
        "        for item in os.listdir(subfolder_path):\n",
        "            if os.path.isfile(os.path.join(subfolder_path, item)):\n",
        "                # Check if the file has a common image extension (case-insensitive)\n",
        "                if any(item.lower().endswith(ext) for ext in image_extensions):\n",
        "                    image_count += 1\n",
        "        print(f\"Number of image files in '{subfolder_name}': {image_count}\")\n",
        "    else:\n",
        "        print(f\"Error: Subfolder '{subfolder_name}' not found or is not a directory at '{subfolder_path}'\")"
      ]
    },
    {
      "cell_type": "code",
      "execution_count": 51,
      "id": "382ea219",
      "metadata": {
        "colab": {
          "base_uri": "https://localhost:8080/"
        },
        "id": "382ea219",
        "outputId": "d2cb21be-bc13-430a-f608-904faa615294"
      },
      "outputs": [
        {
          "output_type": "stream",
          "name": "stdout",
          "text": [
            "SAMSUNG_ROOT     : /content/drive/MyDrive/Samsung_Datasets/dataset_extracted/dataset\n",
            "SAMSUNG_TEST_META: /content/drive/MyDrive/Samsung_Datasets/dataset_extracted/dataset/test_metadata.json\n",
            "CKPT_PATH        : /content/drive/MyDrive/Samsung/src/saves/tinypatchregressor_jianjin008_best.pth\n"
          ]
        }
      ],
      "source": [
        "# ==== PATHS (Samsung) ====\n",
        "\n",
        "base_folder = \"/content/drive/MyDrive/Samsung_Datasets/dataset_extracted/dataset\"  # <- your root\n",
        "SAMSUNG_ROOT = base_folder\n",
        "\n",
        "def looks_like_samsung_meta(p):\n",
        "    try:\n",
        "        with open(p, \"r\") as f:\n",
        "            js = json.load(f)\n",
        "        rec = js[0] if isinstance(js, list) and js else (js.get(\"data\", [None])[0] if isinstance(js, dict) else None)\n",
        "        if not rec: return False\n",
        "        return (\"clean_image\" in rec) and (\"distorted_image\" in rec) and (\"metadata\" in rec)\n",
        "    except Exception:\n",
        "        return False\n",
        "\n",
        "SAMSUNG_TEST_META = \"/content/drive/MyDrive/Samsung_Datasets/dataset_extracted/dataset/test_metadata.json\"\n",
        "\n",
        "# Trained Jianjin008 checkpoint\n",
        "CKPT_PATH = \"/content/drive/MyDrive/Samsung/src/saves/tinypatchregressor_jianjin008_best.pth\"\n",
        "\n",
        "print(\"SAMSUNG_ROOT     :\", SAMSUNG_ROOT)\n",
        "print(\"SAMSUNG_TEST_META:\", SAMSUNG_TEST_META)\n",
        "print(\"CKPT_PATH        :\", CKPT_PATH)"
      ]
    },
    {
      "cell_type": "code",
      "execution_count": 52,
      "id": "5aac2fb4",
      "metadata": {
        "colab": {
          "base_uri": "https://localhost:8080/",
          "height": 1000
        },
        "id": "5aac2fb4",
        "outputId": "771f8d23-787e-4f83-f71e-b045c824e331"
      },
      "outputs": [
        {
          "output_type": "display_data",
          "data": {
            "text/plain": [
              "<Figure size 1500x500 with 6 Axes>"
            ],
            "image/png": "[encoded data removed]"
          },
          "metadata": {}
        },
        {
          "output_type": "display_data",
          "data": {
            "text/plain": [
              "<Figure size 1500x500 with 6 Axes>"
            ],
            "image/png": "[encoded data removed]"
          },
          "metadata": {}
        }
      ],
      "source": [
        "# Pair-aware preview using existing base_folder\n",
        "base_folder = \"/content/drive/MyDrive/Samsung_Datasets/dataset_extracted/dataset\"\n",
        "SAMSUNG_TEST_META = os.path.join(base_folder, \"test_metadata.json\")\n",
        "image_extensions = {'.jpg', '.jpeg', '.png', '.bmp', '.tiff'}\n",
        "\n",
        "def dir_map(d):\n",
        "    return {os.path.splitext(f)[0]: os.path.join(d, f)\n",
        "            for f in os.listdir(d)\n",
        "            if os.path.splitext(f)[1].lower() in image_extensions and os.path.isfile(os.path.join(d,f))}\n",
        "\n",
        "clean_map = dir_map(os.path.join(base_folder, \"clean\"))\n",
        "ref_map   = dir_map(os.path.join(base_folder, \"ref\"))\n",
        "new_map   = dir_map(os.path.join(base_folder, \"new\"))\n",
        "\n",
        "with open(SAMSUNG_TEST_META, \"r\") as f:\n",
        "    rows = json.load(f)\n",
        "\n",
        "def sample_and_show(pair_type=\"clean_ref\", k=3):\n",
        "    want = \"ref\" if pair_type==\"clean_ref\" else \"new\"\n",
        "    subset = [r for r in rows if str(r.get(\"metadata\",{}).get(\"method\",\"\")).lower()==want]\n",
        "    subset = random.sample(subset, min(k, len(subset)))\n",
        "    plt.figure(figsize=(5*k, 5))\n",
        "    for i, r in enumerate(subset, 1):\n",
        "        clean_id = str(r[\"clean_image\"])\n",
        "        dist_id  = str(r[\"distorted_image\"])\n",
        "        label    = str(r.get(\"metadata\",{}).get(\"color\",\"?\")).upper()\n",
        "\n",
        "        p_clean = clean_map.get(clean_id)\n",
        "        p_other = (ref_map if want==\"ref\" else new_map).get(dist_id)\n",
        "        if not (p_clean and p_other):\n",
        "            print(\"Missing:\", r.get(\"unique_sample_id\")); continue\n",
        "\n",
        "        ax1 = plt.subplot(2, k, i);     ax1.imshow(Image.open(p_clean)); ax1.set_title(f\"clean {clean_id}\"); ax1.axis(\"off\")\n",
        "        ax2 = plt.subplot(2, k, i+k);   ax2.imshow(Image.open(p_other)); ax2.set_title(f\"{want} {dist_id} | {label}\"); ax2.axis(\"off\")\n",
        "    plt.suptitle(f\"Pair preview: {pair_type}\"); plt.tight_layout(); plt.show()\n",
        "\n",
        "sample_and_show(\"clean_ref\", k=3)\n",
        "sample_and_show(\"clean_new\", k=3)"
      ]
    },
    {
      "cell_type": "markdown",
      "source": [
        "# Loaders + Helpers"
      ],
      "metadata": {
        "id": "dejaAjRDj02u"
      },
      "id": "dejaAjRDj02u"
    },
    {
      "cell_type": "code",
      "source": [
        "from sklearn.metrics import (\n",
        "    accuracy_score, balanced_accuracy_score, confusion_matrix, precision_recall_fscore_support\n",
        ")\n",
        "from tqdm.auto import tqdm\n",
        "import matplotlib.pyplot as plt\n",
        "\n",
        "# ---------- 9-channel dataset helpers ----------\n",
        "LBL_MAP = {\"GREEN\":0, \"ORANGE\":1, \"RED\":2}\n",
        "TO_T = T.ToTensor()              # training used ToTensor only\n",
        "READ = lambda p: TO_T(Image.open(p).convert(\"RGB\"))\n",
        "EXTS = {\".png\",\".bmp\",\".jpg\",\".jpeg\",\".tiff\"}\n",
        "\n",
        "def _dir_map(folder: str):\n",
        "    return {\n",
        "        os.path.splitext(f)[0]: os.path.join(folder, f)\n",
        "        for f in os.listdir(folder)\n",
        "        if os.path.splitext(f)[1].lower() in EXTS and os.path.isfile(os.path.join(folder,f))\n",
        "    }\n",
        "\n",
        "class SamsungIDDataset(Dataset):\n",
        "    \"\"\"Emits X=[9,H,W]: [clean(3), distorted(3), |clean-distorted|(3)], y in {0,1,2}.\"\"\"\n",
        "    def __init__(self, meta_json: str, root: str, pair_type: str, order: str=\"clean_other\"):\n",
        "        assert pair_type in (\"clean_ref\",\"clean_new\") and order in (\"clean_other\",\"dist_ref\")\n",
        "        rows = json.load(open(meta_json))\n",
        "        want = \"ref\" if pair_type==\"clean_ref\" else \"new\"\n",
        "        self.rows = [r for r in rows if str(r[\"metadata\"][\"method\"]).lower()==want]\n",
        "        self.clean = _dir_map(os.path.join(root, \"clean\"))\n",
        "        self.ref   = _dir_map(os.path.join(root, \"ref\"))\n",
        "        self.new   = _dir_map(os.path.join(root, \"new\"))\n",
        "        self.order = order\n",
        "\n",
        "    def __len__(self): return len(self.rows)\n",
        "\n",
        "    def _resolve(self, mp, fid):\n",
        "        k = str(fid)\n",
        "        if k in mp: return mp[k]\n",
        "        for p in (\"\",\"clean_\",\"ref_\",\"new_\"):\n",
        "            if p+k in mp: return mp[p+k]\n",
        "        raise FileNotFoundError(f\"Missing {k}\")\n",
        "\n",
        "    def __getitem__(self, i):\n",
        "        r = self.rows[i]; m = r[\"metadata\"]; rid = str(r.get(\"unique_sample_id\", i))\n",
        "        pc = self._resolve(self.clean, r[\"clean_image\"])\n",
        "        po = self._resolve(self.ref if m[\"method\"].lower()==\"ref\" else self.new, r[\"distorted_image\"])\n",
        "        try:\n",
        "            clean, other = READ(pc), READ(po)   # [3,H,W] each in [0,1]\n",
        "        except (FileNotFoundError, UnidentifiedImageError) as e:\n",
        "            raise FileNotFoundError(f\"{e}\\nclean={pc}\\nother={po}\\nrec={rid}\")\n",
        "        diff = torch.abs(clean - other)         # [3,H,W]\n",
        "        x = torch.cat([clean, other, diff], 0)  # -> [9,H,W]\n",
        "        y = LBL_MAP.get(str(m[\"color\"]).upper(), -1)\n",
        "        return x, y, rid"
      ],
      "metadata": {
        "id": "3Br397mSj8Uh"
      },
      "id": "3Br397mSj8Uh",
      "execution_count": 53,
      "outputs": []
    },
    {
      "cell_type": "code",
      "source": [
        "# --- Config (kept; tweaked for robustness) ---\n",
        "BATCH = 128\n",
        "NUM_WORKERS = 0                 # avoid multiprocessing hangs with Drive/PIL\n",
        "ORDER = \"clean_other\"           # [clean, other, |diff|]\n",
        "APPLY_SIGMOID = False           # checkpoint trained without sigmoid\n",
        "DO_INVERT = True                # model outputs quality → invert to severity\n",
        "CALIBRATION_MAX_ITEMS = 20000   # subsample train for faster calibration (None = full)\n",
        "\n",
        "LABELS = [0, 1, 2]\n",
        "NAMES  = ['GREEN', 'ORANGE', 'RED']\n",
        "\n",
        "torch.set_num_threads(1)\n",
        "\n",
        "def make_loader(meta, typ, bs=BATCH, shuffle=False):\n",
        "    return DataLoader(\n",
        "        SamsungIDDataset(meta, SAMSUNG_ROOT, pair_type=typ, order=ORDER),\n",
        "        batch_size=bs, shuffle=shuffle, num_workers=NUM_WORKERS,\n",
        "        pin_memory=False, persistent_workers=False, timeout=0\n",
        "    )\n",
        "\n",
        "print(\">> Building TEST loaders...\")\n",
        "t0 = time.time()\n",
        "dl_ref = make_loader(SAMSUNG_TEST_META, \"clean_ref\")\n",
        "dl_new = make_loader(SAMSUNG_TEST_META, \"clean_new\")\n",
        "print(f\"   TEST loaders ready in {time.time()-t0:.2f}s | sizes: ref={len(dl_ref.dataset)}, new={len(dl_new.dataset)}\")\n",
        "\n",
        "# --- Model (9 channels) ---\n",
        "device = torch.device(\"cuda\" if torch.cuda.is_available() else \"cpu\")\n",
        "print(f\">> Device: {device}\")\n",
        "model = TinyPatchRegressor(in_channels=9).to(device)\n",
        "\n",
        "print(\">> Loading checkpoint...\")\n",
        "state = torch.load(CKPT_PATH, map_location=\"cpu\")\n",
        "sd = state[\"state_dict\"] if isinstance(state, dict) and \"state_dict\" in state else state\n",
        "missing, unexpected = model.load_state_dict(sd, strict=False)\n",
        "print(f\"   state_dict loaded | missing={len(missing)} unexpected={len(unexpected)}\")\n",
        "\n",
        "# --- Inference helper with progress + safety ---\n",
        "def run_inference_9ch_verbose(model, loader, device, apply_sigmoid=False, invert=True, label=\"\"):\n",
        "    model.eval()\n",
        "    preds, ys, ids = [], [], []\n",
        "    amp_en = (getattr(device, \"type\", None) == \"cuda\")\n",
        "    total = len(loader)\n",
        "    with torch.no_grad(), torch.amp.autocast(device_type=\"cuda\", enabled=amp_en):\n",
        "        for xb, yb, rid in tqdm(loader, total=total, desc=f\"Infer {label}\", leave=False):\n",
        "            xb = xb.to(device).float()\n",
        "            z = model(xb).squeeze(-1)\n",
        "            s = torch.sigmoid(z) if apply_sigmoid else z\n",
        "            s = torch.clamp(s, 0.0, 1.0)\n",
        "            if invert:\n",
        "                s = 1.0 - s\n",
        "            preds.append(s.cpu().numpy())\n",
        "            ys.append(yb.numpy())\n",
        "            ids.extend(list(rid))\n",
        "    if len(preds) == 0:\n",
        "        return np.array([], dtype=float), np.array([], dtype=int), []\n",
        "    return np.concatenate(preds), np.concatenate(ys), ids\n"
      ],
      "metadata": {
        "colab": {
          "base_uri": "https://localhost:8080/"
        },
        "id": "cmSfaVTbjGK0",
        "outputId": "28ded815-621c-4582-dbb8-b60770dfdce4"
      },
      "id": "cmSfaVTbjGK0",
      "execution_count": 54,
      "outputs": [
        {
          "output_type": "stream",
          "name": "stdout",
          "text": [
            ">> Building TEST loaders...\n",
            "   TEST loaders ready in 1.82s | sizes: ref=381, new=359\n",
            ">> Device: cuda\n",
            ">> Loading checkpoint...\n",
            "   state_dict loaded | missing=0 unexpected=0\n"
          ]
        }
      ]
    },
    {
      "cell_type": "markdown",
      "source": [
        "# TEST inference"
      ],
      "metadata": {
        "id": "5Mz-7YfWkER5"
      },
      "id": "5Mz-7YfWkER5"
    },
    {
      "cell_type": "code",
      "source": [
        "print(\">> Running TEST inference (ref/new)...\")\n",
        "t0 = time.time()\n",
        "pred_ref, y_ref, _ = run_inference_9ch_verbose(model, dl_ref, device, apply_sigmoid=APPLY_SIGMOID, invert=DO_INVERT, label=\"TEST-ref\")\n",
        "pred_new, y_new, _ = run_inference_9ch_verbose(model, dl_new, device, apply_sigmoid=APPLY_SIGMOID, invert=DO_INVERT, label=\"TEST-new\")\n",
        "print(f\"   TEST inference done in {time.time()-t0:.2f}s | ref={pred_ref.shape[0]} new={pred_new.shape[0]}\")\n",
        "\n",
        "# =================== Per-split TRAIN calibration ===================\n",
        "print(\">> Building TRAIN loaders for calibration...\")\n",
        "SAMSUNG_TRAIN_META = os.path.join(SAMSUNG_ROOT, \"train_metadata.json\")\n",
        "dl_ref_tr = make_loader(SAMSUNG_TRAIN_META, \"clean_ref\", bs=BATCH, shuffle=False)\n",
        "dl_new_tr = make_loader(SAMSUNG_TRAIN_META, \"clean_new\", bs=BATCH, shuffle=False)\n",
        "print(f\"   TRAIN sizes: ref={len(dl_ref_tr.dataset)} new={len(dl_new_tr.dataset)}\")\n",
        "\n",
        "def run_inference_9ch_calib(model, loader, device, max_items=None, label=\"CAL\"):\n",
        "    \"\"\"Optional subsampling for faster calibration.\"\"\"\n",
        "    model.eval()\n",
        "    preds, ys = [], []\n",
        "    seen = 0\n",
        "    amp_en = (getattr(device, \"type\", None) == \"cuda\")\n",
        "    total = len(loader) if max_items is None else min(len(loader), max(1, int(np.ceil(max_items / loader.batch_size))))\n",
        "    with torch.no_grad(), torch.amp.autocast(device_type=\"cuda\", enabled=amp_en):\n",
        "        for xb, yb, _ in tqdm(loader, total=total, desc=f\"Calib {label}\", leave=False):\n",
        "            xb = xb.to(device).float()\n",
        "            s = model(xb).squeeze(-1)\n",
        "            if APPLY_SIGMOID: s = torch.sigmoid(s)\n",
        "            s = torch.clamp(s, 0.0, 1.0)\n",
        "            if DO_INVERT: s = 1.0 - s\n",
        "            preds.append(s.cpu().numpy()); ys.append(yb.numpy())\n",
        "            seen += xb.size(0)\n",
        "            if max_items is not None and seen >= max_items:\n",
        "                break\n",
        "    if len(preds) == 0:\n",
        "        return np.array([], dtype=float), np.array([], dtype=int)\n",
        "    return np.concatenate(preds), np.concatenate(ys)\n",
        "\n",
        "print(\">> Running TRAIN inference (for calibration)...\")\n",
        "t0 = time.time()\n",
        "ref_tr_s, ref_tr_y = run_inference_9ch_calib(model, dl_ref_tr, device, max_items=CALIBRATION_MAX_ITEMS, label=\"ref\")\n",
        "new_tr_s, new_tr_y = run_inference_9ch_calib(model, dl_new_tr, device, max_items=CALIBRATION_MAX_ITEMS, label=\"new\")\n",
        "print(f\"   TRAIN inference done in {time.time()-t0:.2f}s | used ref={ref_tr_s.shape[0]} new={new_tr_s.shape[0]}\")\n"
      ],
      "metadata": {
        "colab": {
          "base_uri": "https://localhost:8080/",
          "height": 126,
          "referenced_widgets": [
            "5c1f09e837864d83bb905a38d851c7f7",
            "1f3bd315383a4420ab451cd581c67a44",
            "8e5fee0ded164f249b32d6836a81ff6e",
            "b6ba9e5876d84e528c406506ab569e9f",
            "0a11db69d33e4a45a3cb55ea68ffc7a7",
            "f3015c3f35d947d1b83ba29e9264fddd",
            "d58963d9923540b5914119b870bc8f23",
            "d7654159c224425b96eb009439ae259f",
            "5076f5a9c6b3422cb0f13005ae59162e",
            "844e4088cf1f4087a4e50c4f5b8c0337",
            "af8080d53b8549b2a03baa4b985c9beb",
            "49a4dac34f5c451f9226c0ca7da5a4f9",
            "1bba3737e12445a9988b7fddb9a93b80",
            "68b0a301b73b429c9d17f97725dd753b",
            "469c63eae94642529748cbb03129a6bd",
            "72110d40da2f4b419978668440634d16",
            "5c7d51341bd94ba78cd48cebbc0d62ad",
            "a76960e8f6164b9fba1c51a5350ec19b",
            "a9ae718ad48c4fb98bb72672c8d84db8",
            "6564df7a8dca43629b8152a0e918a0d0",
            "c2200e5db1954998972c97dd820922f2",
            "42d7f48a932540bab76deee591977e7d",
            "40e181012dcf4ad9b93d325f2cab9ae6",
            "8c24953a740144fdb0c6f53150f5d5d1",
            "bda578a81b6b4bf9a66fa36177fd54f0",
            "74a1bdbe1b8f4a989ecb79b46b395c64",
            "8a761797eead42e2a23de1991b1717b6",
            "6cf5e5a2696645f7a8cb0bac641c9889",
            "681f1e098dd44f74afa93bc738e751c1",
            "36bb91085eae4edb9102a0bd369e94e2",
            "96c2dd3aca624fb883c5c04a0bea327c",
            "39959c2b14e74995a59e16f57f6dfa12",
            "93e7fe4dffcf490587976173e7861fd6",
            "6e0e2c5222fc4b888b205e97cb6580c6",
            "46cc5e853d8d493487a4a372e44a516c",
            "2eed406c1e4b493d940192d4667677dc",
            "43862f0dd613481ba4426eebfea27ea3",
            "432433b4a10e48fba2b2c6942a38075f",
            "fa891fd9e93f4999beb18aa3d3fc844a",
            "def8e4bd0493474b9e11c8c183b5444b",
            "cb12625d09b6427991175d278453119e",
            "08a91e65944b49f098a6bd3a6baf721c",
            "820ce7092fe34823b1013ca48dc971c6",
            "923434687ea346228b9fb49a9d204891"
          ]
        },
        "id": "QgybVRtukO4Z",
        "outputId": "eb0fa9aa-c526-453b-bf9d-25743b4d7edd"
      },
      "id": "QgybVRtukO4Z",
      "execution_count": 55,
      "outputs": [
        {
          "output_type": "stream",
          "name": "stdout",
          "text": [
            ">> Running TEST inference (ref/new)...\n"
          ]
        },
        {
          "output_type": "display_data",
          "data": {
            "text/plain": [
              "Infer TEST-ref:   0%|          | 0/3 [00:00<?, ?it/s]"
            ],
            "application/vnd.jupyter.widget-view+json": {
              "version_major": 2,
              "version_minor": 0,
              "model_id": "5c1f09e837864d83bb905a38d851c7f7"
            }
          },
          "metadata": {}
        },
        {
          "output_type": "display_data",
          "data": {
            "text/plain": [
              "Infer TEST-new:   0%|          | 0/3 [00:00<?, ?it/s]"
            ],
            "application/vnd.jupyter.widget-view+json": {
              "version_major": 2,
              "version_minor": 0,
              "model_id": "49a4dac34f5c451f9226c0ca7da5a4f9"
            }
          },
          "metadata": {}
        },
        {
          "output_type": "stream",
          "name": "stdout",
          "text": [
            "   TEST inference done in 16.91s | ref=381 new=359\n",
            ">> Building TRAIN loaders for calibration...\n",
            "   TRAIN sizes: ref=1468 new=1490\n",
            ">> Running TRAIN inference (for calibration)...\n"
          ]
        },
        {
          "output_type": "display_data",
          "data": {
            "text/plain": [
              "Calib ref:   0%|          | 0/12 [00:00<?, ?it/s]"
            ],
            "application/vnd.jupyter.widget-view+json": {
              "version_major": 2,
              "version_minor": 0,
              "model_id": "40e181012dcf4ad9b93d325f2cab9ae6"
            }
          },
          "metadata": {}
        },
        {
          "output_type": "display_data",
          "data": {
            "text/plain": [
              "Calib new:   0%|          | 0/12 [00:00<?, ?it/s]"
            ],
            "application/vnd.jupyter.widget-view+json": {
              "version_major": 2,
              "version_minor": 0,
              "model_id": "6e0e2c5222fc4b888b205e97cb6580c6"
            }
          },
          "metadata": {}
        },
        {
          "output_type": "stream",
          "name": "stdout",
          "text": [
            "   TRAIN inference done in 16.02s | used ref=1468 new=1490\n"
          ]
        }
      ]
    },
    {
      "cell_type": "markdown",
      "source": [
        "# Calibration"
      ],
      "metadata": {
        "id": "rKDZ16vpkhBJ"
      },
      "id": "rKDZ16vpkhBJ"
    },
    {
      "cell_type": "code",
      "source": [
        "\n",
        "def calibrate_bins(scores, labels, lo=None, hi=None, step=0.002):\n",
        "    \"\"\"Find (b1<b2) maximizing balanced accuracy on 3 classes.\"\"\"\n",
        "    s = np.asarray(scores); y = np.asarray(labels)\n",
        "    m = (y >= 0); s, y = s[m], y[m]\n",
        "    if s.size == 0: return 0.30, 0.60, 0.0\n",
        "    if lo is None or hi is None:\n",
        "        p10, p90 = np.percentile(s, [10, 90])\n",
        "        mid = np.median(s); span = max(0.12, float(p90 - p10))\n",
        "        lo, hi = max(0.0, mid - span/2), min(1.0, mid + span/2)\n",
        "        if hi - lo < 0.08:\n",
        "            lo, hi = max(0.0, mid - 0.10), min(1.0, mid + 0.10)\n",
        "    best = (0.33, 0.66, -1.0)\n",
        "    for b1 in np.arange(lo, hi - 0.01, step):\n",
        "        for b2 in np.arange(b1 + 0.01, hi, step):\n",
        "            pred = np.digitize(s, [b1, b2])\n",
        "            bacc = balanced_accuracy_score(y, pred)\n",
        "            if bacc > best[2]:\n",
        "                best = (float(b1), float(b2), float(bacc))\n",
        "    return best  # (b1, b2, bacc)\n",
        "\n",
        "print(\">> Calibrating thresholds on TRAIN...\")\n",
        "b1r, b2r, bacc_r = calibrate_bins(ref_tr_s, ref_tr_y)\n",
        "b1n, b2n, bacc_n = calibrate_bins(new_tr_s, new_tr_y)\n",
        "print(f\"   TRAIN calibration — REF bins=({b1r:.3f},{b2r:.3f})  NEW bins=({b1n:.3f},{b2n:.3f})\")\n",
        "\n",
        "# ---------- Minimal evaluation helpers ----------\n",
        "def row_percent(cm_counts: np.ndarray) -> np.ndarray:\n",
        "    rs = cm_counts.sum(axis=1, keepdims=True)\n",
        "    return np.divide(cm_counts, rs, where=rs != 0, out=np.zeros_like(cm_counts, dtype=float))\n",
        "\n",
        "def summarize_for_report(name, y_true, scores, b1, b2):\n",
        "    y_pred   = np.digitize(scores, [b1, b2])\n",
        "    cm       = confusion_matrix(y_true, y_pred, labels=LABELS)\n",
        "    acc      = accuracy_score(y_true, y_pred)\n",
        "    bacc     = balanced_accuracy_score(y_true, y_pred)\n",
        "    _, recall, _, _ = precision_recall_fscore_support(y_true, y_pred, labels=LABELS, zero_division=0)\n",
        "    print(f\"\\n{name}\")\n",
        "    print(f\"Acc={acc:.4f} | BAcc={bacc:.4f} | Recall[G,O,R]=[{recall[0]:.3f}, {recall[1]:.3f}, {recall[2]:.3f}]\")\n",
        "    return cm, row_percent(cm)"
      ],
      "metadata": {
        "colab": {
          "base_uri": "https://localhost:8080/"
        },
        "id": "Lkc3JbEaki2n",
        "outputId": "6cefd43d-300c-4cd2-bdf4-646823c0deb4"
      },
      "id": "Lkc3JbEaki2n",
      "execution_count": 56,
      "outputs": [
        {
          "output_type": "stream",
          "name": "stdout",
          "text": [
            ">> Calibrating thresholds on TRAIN...\n",
            "   TRAIN calibration — REF bins=(0.448,0.492)  NEW bins=(0.470,0.510)\n"
          ]
        }
      ]
    },
    {
      "cell_type": "markdown",
      "source": [
        "# Run and Print"
      ],
      "metadata": {
        "id": "27U8VjgckjkG"
      },
      "id": "27U8VjgckjkG"
    },
    {
      "cell_type": "code",
      "source": [
        "\n",
        "# ---------- Pretty confusion matrix ----------\n",
        "def plot_cm_color(cm_counts, cm_pct, title=''):\n",
        "    base = np.array([\n",
        "        [0.45, 1.00, 0.55],  # GREEN\n",
        "        [1.00, 0.78, 0.40],  # ORANGE\n",
        "        [1.00, 0.35, 0.35],  # RED\n",
        "    ], dtype=float)\n",
        "\n",
        "    H, W = cm_counts.shape\n",
        "    rgb = np.zeros((H, W, 3), float)\n",
        "    fade = 0.35\n",
        "    for j in range(W):\n",
        "        tint = fade + (1 - fade) * base[j]\n",
        "        pct = cm_pct[:, j][:, None]\n",
        "        rgb[:, j, :] = (1 - pct) * tint + pct * base[j]\n",
        "\n",
        "    fig, ax = plt.subplots(figsize=(5.6, 4.6))\n",
        "    ax.imshow(rgb, interpolation='nearest', aspect='equal')\n",
        "    for x in range(W + 1):\n",
        "        ax.axvline(x - 0.5, color='black', linewidth=1.0, alpha=0.6)\n",
        "    for y in range(H + 1):\n",
        "        ax.axhline(y - 0.5, color='black', linewidth=1.0, alpha=0.6)\n",
        "\n",
        "    ax.set(title=title, xlabel='Predicted', ylabel='True',\n",
        "           xticks=range(W), yticks=range(H),\n",
        "           xticklabels=NAMES, yticklabels=NAMES)\n",
        "\n",
        "    for i in range(H):\n",
        "        for j in range(W):\n",
        "            ax.text(j, i, f\"{cm_pct[i, j]*100:4.1f}%\\n({cm_counts[i, j]})\",\n",
        "                    ha='center', va='center', fontsize=9, color='black')\n",
        "\n",
        "    ax.set_xlim(-0.5, W - 0.5); ax.set_ylim(H - 0.5, -0.5)\n",
        "    plt.tight_layout(); plt.show()\n",
        "\n",
        "# =================== Apply to TEST (minimal prints + colorful CMs) ===================\n",
        "print(\">> Evaluating TEST splits...\")\n",
        "cm_r, pct_r = summarize_for_report(\"Samsung TEST (clean, ref) — calibrated\", y_ref, pred_ref, b1r, b2r)\n",
        "plot_cm_color(cm_r, pct_r, \"Samsung TEST (clean, ref) — calibrated\")\n",
        "\n",
        "cm_n, pct_n = summarize_for_report(\"Samsung TEST (clean, new) — calibrated\", y_new, pred_new, b1n, b2n)\n",
        "plot_cm_color(cm_n, pct_n, \"Samsung TEST (clean, new) — calibrated\")\n",
        "\n",
        "print(\">> Done.\")"
      ],
      "metadata": {
        "colab": {
          "base_uri": "https://localhost:8080/",
          "height": 1000
        },
        "id": "bPm6iQFdknqt",
        "outputId": "6cc1535f-cf24-4dcb-8f30-ba83af0b57c1"
      },
      "id": "bPm6iQFdknqt",
      "execution_count": 57,
      "outputs": [
        {
          "output_type": "stream",
          "name": "stdout",
          "text": [
            ">> Evaluating TEST splits...\n",
            "\n",
            "Samsung TEST (clean, ref) — calibrated\n",
            "Acc=0.3963 | BAcc=0.3552 | Recall[G,O,R]=[0.099, 0.395, 0.571]\n"
          ]
        },
        {
          "output_type": "display_data",
          "data": {
            "text/plain": [
              "<Figure size 560x460 with 1 Axes>"
            ],
            "image/png": "[encoded data removed]"
          },
          "metadata": {}
        },
        {
          "output_type": "stream",
          "name": "stdout",
          "text": [
            "\n",
            "Samsung TEST (clean, new) — calibrated\n",
            "Acc=0.3370 | BAcc=0.3174 | Recall[G,O,R]=[0.221, 0.326, 0.405]\n"
          ]
        },
        {
          "output_type": "display_data",
          "data": {
            "text/plain": [
              "<Figure size 560x460 with 1 Axes>"
            ],
            "image/png": "[encoded data removed]"
          },
          "metadata": {}
        },
        {
          "output_type": "stream",
          "name": "stdout",
          "text": [
            ">> Done.\n"
          ]
        }
      ]
    }
  ],
  "metadata": {
    "accelerator": "GPU",
    "colab": {
      "gpuType": "T4",
      "provenance": []
    },
    "kernelspec": {
      "display_name": "Python 3",
      "name": "python3"
    },
    "language_info": {
      "name": "python"
    },
    "widgets": {
      "application/vnd.jupyter.widget-state+json": {
        "5c1f09e837864d83bb905a38d851c7f7": {
          "model_module": "@jupyter-widgets/controls",
          "model_name": "HBoxModel",
          "model_module_version": "1.5.0",
          "state": {
            "_dom_classes": [],
            "_model_module": "@jupyter-widgets/controls",
            "_model_module_version": "1.5.0",
            "_model_name": "HBoxModel",
            "_view_count": null,
            "_view_module": "@jupyter-widgets/controls",
            "_view_module_version": "1.5.0",
            "_view_name": "HBoxView",
            "box_style": "",
            "children": [
              "IPY_MODEL_1f3bd315383a4420ab451cd581c67a44",
              "IPY_MODEL_8e5fee0ded164f249b32d6836a81ff6e",
              "IPY_MODEL_b6ba9e5876d84e528c406506ab569e9f"
            ],
            "layout": "IPY_MODEL_0a11db69d33e4a45a3cb55ea68ffc7a7"
          }
        },
        "1f3bd315383a4420ab451cd581c67a44": {
          "model_module": "@jupyter-widgets/controls",
          "model_name": "HTMLModel",
          "model_module_version": "1.5.0",
          "state": {
            "_dom_classes": [],
            "_model_module": "@jupyter-widgets/controls",
            "_model_module_version": "1.5.0",
            "_model_name": "HTMLModel",
            "_view_count": null,
            "_view_module": "@jupyter-widgets/controls",
            "_view_module_version": "1.5.0",
            "_view_name": "HTMLView",
            "description": "",
            "description_tooltip": null,
            "layout": "IPY_MODEL_f3015c3f35d947d1b83ba29e9264fddd",
            "placeholder": "​",
            "style": "IPY_MODEL_d58963d9923540b5914119b870bc8f23",
            "value": "Infer TEST-ref: 100%"
          }
        },
        "8e5fee0ded164f249b32d6836a81ff6e": {
          "model_module": "@jupyter-widgets/controls",
          "model_name": "FloatProgressModel",
          "model_module_version": "1.5.0",
          "state": {
            "_dom_classes": [],
            "_model_module": "@jupyter-widgets/controls",
            "_model_module_version": "1.5.0",
            "_model_name": "FloatProgressModel",
            "_view_count": null,
            "_view_module": "@jupyter-widgets/controls",
            "_view_module_version": "1.5.0",
            "_view_name": "ProgressView",
            "bar_style": "",
            "description": "",
            "description_tooltip": null,
            "layout": "IPY_MODEL_d7654159c224425b96eb009439ae259f",
            "max": 3,
            "min": 0,
            "orientation": "horizontal",
            "style": "IPY_MODEL_5076f5a9c6b3422cb0f13005ae59162e",
            "value": 3
          }
        },
        "b6ba9e5876d84e528c406506ab569e9f": {
          "model_module": "@jupyter-widgets/controls",
          "model_name": "HTMLModel",
          "model_module_version": "1.5.0",
          "state": {
            "_dom_classes": [],
            "_model_module": "@jupyter-widgets/controls",
            "_model_module_version": "1.5.0",
            "_model_name": "HTMLModel",
            "_view_count": null,
            "_view_module": "@jupyter-widgets/controls",
            "_view_module_version": "1.5.0",
            "_view_name": "HTMLView",
            "description": "",
            "description_tooltip": null,
            "layout": "IPY_MODEL_844e4088cf1f4087a4e50c4f5b8c0337",
            "placeholder": "​",
            "style": "IPY_MODEL_af8080d53b8549b2a03baa4b985c9beb",
            "value": " 3/3 [00:14&lt;00:00,  3.56s/it]"
          }
        },
        "0a11db69d33e4a45a3cb55ea68ffc7a7": {
          "model_module": "@jupyter-widgets/base",
          "model_name": "LayoutModel",
          "model_module_version": "1.2.0",
          "state": {
            "_model_module": "@jupyter-widgets/base",
            "_model_module_version": "1.2.0",
            "_model_name": "LayoutModel",
            "_view_count": null,
            "_view_module": "@jupyter-widgets/base",
            "_view_module_version": "1.2.0",
            "_view_name": "LayoutView",
            "align_content": null,
            "align_items": null,
            "align_self": null,
            "border": null,
            "bottom": null,
            "display": null,
            "flex": null,
            "flex_flow": null,
            "grid_area": null,
            "grid_auto_columns": null,
            "grid_auto_flow": null,
            "grid_auto_rows": null,
            "grid_column": null,
            "grid_gap": null,
            "grid_row": null,
            "grid_template_areas": null,
            "grid_template_columns": null,
            "grid_template_rows": null,
            "height": null,
            "justify_content": null,
            "justify_items": null,
            "left": null,
            "margin": null,
            "max_height": null,
            "max_width": null,
            "min_height": null,
            "min_width": null,
            "object_fit": null,
            "object_position": null,
            "order": null,
            "overflow": null,
            "overflow_x": null,
            "overflow_y": null,
            "padding": null,
            "right": null,
            "top": null,
            "visibility": "hidden",
            "width": null
          }
        },
        "f3015c3f35d947d1b83ba29e9264fddd": {
          "model_module": "@jupyter-widgets/base",
          "model_name": "LayoutModel",
          "model_module_version": "1.2.0",
          "state": {
            "_model_module": "@jupyter-widgets/base",
            "_model_module_version": "1.2.0",
            "_model_name": "LayoutModel",
            "_view_count": null,
            "_view_module": "@jupyter-widgets/base",
            "_view_module_version": "1.2.0",
            "_view_name": "LayoutView",
            "align_content": null,
            "align_items": null,
            "align_self": null,
            "border": null,
            "bottom": null,
            "display": null,
            "flex": null,
            "flex_flow": null,
            "grid_area": null,
            "grid_auto_columns": null,
            "grid_auto_flow": null,
            "grid_auto_rows": null,
            "grid_column": null,
            "grid_gap": null,
            "grid_row": null,
            "grid_template_areas": null,
            "grid_template_columns": null,
            "grid_template_rows": null,
            "height": null,
            "justify_content": null,
            "justify_items": null,
            "left": null,
            "margin": null,
            "max_height": null,
            "max_width": null,
            "min_height": null,
            "min_width": null,
            "object_fit": null,
            "object_position": null,
            "order": null,
            "overflow": null,
            "overflow_x": null,
            "overflow_y": null,
            "padding": null,
            "right": null,
            "top": null,
            "visibility": null,
            "width": null
          }
        },
        "d58963d9923540b5914119b870bc8f23": {
          "model_module": "@jupyter-widgets/controls",
          "model_name": "DescriptionStyleModel",
          "model_module_version": "1.5.0",
          "state": {
            "_model_module": "@jupyter-widgets/controls",
            "_model_module_version": "1.5.0",
            "_model_name": "DescriptionStyleModel",
            "_view_count": null,
            "_view_module": "@jupyter-widgets/base",
            "_view_module_version": "1.2.0",
            "_view_name": "StyleView",
            "description_width": ""
          }
        },
        "d7654159c224425b96eb009439ae259f": {
          "model_module": "@jupyter-widgets/base",
          "model_name": "LayoutModel",
          "model_module_version": "1.2.0",
          "state": {
            "_model_module": "@jupyter-widgets/base",
            "_model_module_version": "1.2.0",
            "_model_name": "LayoutModel",
            "_view_count": null,
            "_view_module": "@jupyter-widgets/base",
            "_view_module_version": "1.2.0",
            "_view_name": "LayoutView",
            "align_content": null,
            "align_items": null,
            "align_self": null,
            "border": null,
            "bottom": null,
            "display": null,
            "flex": null,
            "flex_flow": null,
            "grid_area": null,
            "grid_auto_columns": null,
            "grid_auto_flow": null,
            "grid_auto_rows": null,
            "grid_column": null,
            "grid_gap": null,
            "grid_row": null,
            "grid_template_areas": null,
            "grid_template_columns": null,
            "grid_template_rows": null,
            "height": null,
            "justify_content": null,
            "justify_items": null,
            "left": null,
            "margin": null,
            "max_height": null,
            "max_width": null,
            "min_height": null,
            "min_width": null,
            "object_fit": null,
            "object_position": null,
            "order": null,
            "overflow": null,
            "overflow_x": null,
            "overflow_y": null,
            "padding": null,
            "right": null,
            "top": null,
            "visibility": null,
            "width": null
          }
        },
        "5076f5a9c6b3422cb0f13005ae59162e": {
          "model_module": "@jupyter-widgets/controls",
          "model_name": "ProgressStyleModel",
          "model_module_version": "1.5.0",
          "state": {
            "_model_module": "@jupyter-widgets/controls",
            "_model_module_version": "1.5.0",
            "_model_name": "ProgressStyleModel",
            "_view_count": null,
            "_view_module": "@jupyter-widgets/base",
            "_view_module_version": "1.2.0",
            "_view_name": "StyleView",
            "bar_color": null,
            "description_width": ""
          }
        },
        "844e4088cf1f4087a4e50c4f5b8c0337": {
          "model_module": "@jupyter-widgets/base",
          "model_name": "LayoutModel",
          "model_module_version": "1.2.0",
          "state": {
            "_model_module": "@jupyter-widgets/base",
            "_model_module_version": "1.2.0",
            "_model_name": "LayoutModel",
            "_view_count": null,
            "_view_module": "@jupyter-widgets/base",
            "_view_module_version": "1.2.0",
            "_view_name": "LayoutView",
            "align_content": null,
            "align_items": null,
            "align_self": null,
            "border": null,
            "bottom": null,
            "display": null,
            "flex": null,
            "flex_flow": null,
            "grid_area": null,
            "grid_auto_columns": null,
            "grid_auto_flow": null,
            "grid_auto_rows": null,
            "grid_column": null,
            "grid_gap": null,
            "grid_row": null,
            "grid_template_areas": null,
            "grid_template_columns": null,
            "grid_template_rows": null,
            "height": null,
            "justify_content": null,
            "justify_items": null,
            "left": null,
            "margin": null,
            "max_height": null,
            "max_width": null,
            "min_height": null,
            "min_width": null,
            "object_fit": null,
            "object_position": null,
            "order": null,
            "overflow": null,
            "overflow_x": null,
            "overflow_y": null,
            "padding": null,
            "right": null,
            "top": null,
            "visibility": null,
            "width": null
          }
        },
        "af8080d53b8549b2a03baa4b985c9beb": {
          "model_module": "@jupyter-widgets/controls",
          "model_name": "DescriptionStyleModel",
          "model_module_version": "1.5.0",
          "state": {
            "_model_module": "@jupyter-widgets/controls",
            "_model_module_version": "1.5.0",
            "_model_name": "DescriptionStyleModel",
            "_view_count": null,
            "_view_module": "@jupyter-widgets/base",
            "_view_module_version": "1.2.0",
            "_view_name": "StyleView",
            "description_width": ""
          }
        },
        "49a4dac34f5c451f9226c0ca7da5a4f9": {
          "model_module": "@jupyter-widgets/controls",
          "model_name": "HBoxModel",
          "model_module_version": "1.5.0",
          "state": {
            "_dom_classes": [],
            "_model_module": "@jupyter-widgets/controls",
            "_model_module_version": "1.5.0",
            "_model_name": "HBoxModel",
            "_view_count": null,
            "_view_module": "@jupyter-widgets/controls",
            "_view_module_version": "1.5.0",
            "_view_name": "HBoxView",
            "box_style": "",
            "children": [
              "IPY_MODEL_1bba3737e12445a9988b7fddb9a93b80",
              "IPY_MODEL_68b0a301b73b429c9d17f97725dd753b",
              "IPY_MODEL_469c63eae94642529748cbb03129a6bd"
            ],
            "layout": "IPY_MODEL_72110d40da2f4b419978668440634d16"
          }
        },
        "1bba3737e12445a9988b7fddb9a93b80": {
          "model_module": "@jupyter-widgets/controls",
          "model_name": "HTMLModel",
          "model_module_version": "1.5.0",
          "state": {
            "_dom_classes": [],
            "_model_module": "@jupyter-widgets/controls",
            "_model_module_version": "1.5.0",
            "_model_name": "HTMLModel",
            "_view_count": null,
            "_view_module": "@jupyter-widgets/controls",
            "_view_module_version": "1.5.0",
            "_view_name": "HTMLView",
            "description": "",
            "description_tooltip": null,
            "layout": "IPY_MODEL_5c7d51341bd94ba78cd48cebbc0d62ad",
            "placeholder": "​",
            "style": "IPY_MODEL_a76960e8f6164b9fba1c51a5350ec19b",
            "value": "Infer TEST-new: 100%"
          }
        },
        "68b0a301b73b429c9d17f97725dd753b": {
          "model_module": "@jupyter-widgets/controls",
          "model_name": "FloatProgressModel",
          "model_module_version": "1.5.0",
          "state": {
            "_dom_classes": [],
            "_model_module": "@jupyter-widgets/controls",
            "_model_module_version": "1.5.0",
            "_model_name": "FloatProgressModel",
            "_view_count": null,
            "_view_module": "@jupyter-widgets/controls",
            "_view_module_version": "1.5.0",
            "_view_name": "ProgressView",
            "bar_style": "",
            "description": "",
            "description_tooltip": null,
            "layout": "IPY_MODEL_a9ae718ad48c4fb98bb72672c8d84db8",
            "max": 3,
            "min": 0,
            "orientation": "horizontal",
            "style": "IPY_MODEL_6564df7a8dca43629b8152a0e918a0d0",
            "value": 3
          }
        },
        "469c63eae94642529748cbb03129a6bd": {
          "model_module": "@jupyter-widgets/controls",
          "model_name": "HTMLModel",
          "model_module_version": "1.5.0",
          "state": {
            "_dom_classes": [],
            "_model_module": "@jupyter-widgets/controls",
            "_model_module_version": "1.5.0",
            "_model_name": "HTMLModel",
            "_view_count": null,
            "_view_module": "@jupyter-widgets/controls",
            "_view_module_version": "1.5.0",
            "_view_name": "HTMLView",
            "description": "",
            "description_tooltip": null,
            "layout": "IPY_MODEL_c2200e5db1954998972c97dd820922f2",
            "placeholder": "​",
            "style": "IPY_MODEL_42d7f48a932540bab76deee591977e7d",
            "value": " 3/3 [00:02&lt;00:00,  1.55it/s]"
          }
        },
        "72110d40da2f4b419978668440634d16": {
          "model_module": "@jupyter-widgets/base",
          "model_name": "LayoutModel",
          "model_module_version": "1.2.0",
          "state": {
            "_model_module": "@jupyter-widgets/base",
            "_model_module_version": "1.2.0",
            "_model_name": "LayoutModel",
            "_view_count": null,
            "_view_module": "@jupyter-widgets/base",
            "_view_module_version": "1.2.0",
            "_view_name": "LayoutView",
            "align_content": null,
            "align_items": null,
            "align_self": null,
            "border": null,
            "bottom": null,
            "display": null,
            "flex": null,
            "flex_flow": null,
            "grid_area": null,
            "grid_auto_columns": null,
            "grid_auto_flow": null,
            "grid_auto_rows": null,
            "grid_column": null,
            "grid_gap": null,
            "grid_row": null,
            "grid_template_areas": null,
            "grid_template_columns": null,
            "grid_template_rows": null,
            "height": null,
            "justify_content": null,
            "justify_items": null,
            "left": null,
            "margin": null,
            "max_height": null,
            "max_width": null,
            "min_height": null,
            "min_width": null,
            "object_fit": null,
            "object_position": null,
            "order": null,
            "overflow": null,
            "overflow_x": null,
            "overflow_y": null,
            "padding": null,
            "right": null,
            "top": null,
            "visibility": "hidden",
            "width": null
          }
        },
        "5c7d51341bd94ba78cd48cebbc0d62ad": {
          "model_module": "@jupyter-widgets/base",
          "model_name": "LayoutModel",
          "model_module_version": "1.2.0",
          "state": {
            "_model_module": "@jupyter-widgets/base",
            "_model_module_version": "1.2.0",
            "_model_name": "LayoutModel",
            "_view_count": null,
            "_view_module": "@jupyter-widgets/base",
            "_view_module_version": "1.2.0",
            "_view_name": "LayoutView",
            "align_content": null,
            "align_items": null,
            "align_self": null,
            "border": null,
            "bottom": null,
            "display": null,
            "flex": null,
            "flex_flow": null,
            "grid_area": null,
            "grid_auto_columns": null,
            "grid_auto_flow": null,
            "grid_auto_rows": null,
            "grid_column": null,
            "grid_gap": null,
            "grid_row": null,
            "grid_template_areas": null,
            "grid_template_columns": null,
            "grid_template_rows": null,
            "height": null,
            "justify_content": null,
            "justify_items": null,
            "left": null,
            "margin": null,
            "max_height": null,
            "max_width": null,
            "min_height": null,
            "min_width": null,
            "object_fit": null,
            "object_position": null,
            "order": null,
            "overflow": null,
            "overflow_x": null,
            "overflow_y": null,
            "padding": null,
            "right": null,
            "top": null,
            "visibility": null,
            "width": null
          }
        },
        "a76960e8f6164b9fba1c51a5350ec19b": {
          "model_module": "@jupyter-widgets/controls",
          "model_name": "DescriptionStyleModel",
          "model_module_version": "1.5.0",
          "state": {
            "_model_module": "@jupyter-widgets/controls",
            "_model_module_version": "1.5.0",
            "_model_name": "DescriptionStyleModel",
            "_view_count": null,
            "_view_module": "@jupyter-widgets/base",
            "_view_module_version": "1.2.0",
            "_view_name": "StyleView",
            "description_width": ""
          }
        },
        "a9ae718ad48c4fb98bb72672c8d84db8": {
          "model_module": "@jupyter-widgets/base",
          "model_name": "LayoutModel",
          "model_module_version": "1.2.0",
          "state": {
            "_model_module": "@jupyter-widgets/base",
            "_model_module_version": "1.2.0",
            "_model_name": "LayoutModel",
            "_view_count": null,
            "_view_module": "@jupyter-widgets/base",
            "_view_module_version": "1.2.0",
            "_view_name": "LayoutView",
            "align_content": null,
            "align_items": null,
            "align_self": null,
            "border": null,
            "bottom": null,
            "display": null,
            "flex": null,
            "flex_flow": null,
            "grid_area": null,
            "grid_auto_columns": null,
            "grid_auto_flow": null,
            "grid_auto_rows": null,
            "grid_column": null,
            "grid_gap": null,
            "grid_row": null,
            "grid_template_areas": null,
            "grid_template_columns": null,
            "grid_template_rows": null,
            "height": null,
            "justify_content": null,
            "justify_items": null,
            "left": null,
            "margin": null,
            "max_height": null,
            "max_width": null,
            "min_height": null,
            "min_width": null,
            "object_fit": null,
            "object_position": null,
            "order": null,
            "overflow": null,
            "overflow_x": null,
            "overflow_y": null,
            "padding": null,
            "right": null,
            "top": null,
            "visibility": null,
            "width": null
          }
        },
        "6564df7a8dca43629b8152a0e918a0d0": {
          "model_module": "@jupyter-widgets/controls",
          "model_name": "ProgressStyleModel",
          "model_module_version": "1.5.0",
          "state": {
            "_model_module": "@jupyter-widgets/controls",
            "_model_module_version": "1.5.0",
            "_model_name": "ProgressStyleModel",
            "_view_count": null,
            "_view_module": "@jupyter-widgets/base",
            "_view_module_version": "1.2.0",
            "_view_name": "StyleView",
            "bar_color": null,
            "description_width": ""
          }
        },
        "c2200e5db1954998972c97dd820922f2": {
          "model_module": "@jupyter-widgets/base",
          "model_name": "LayoutModel",
          "model_module_version": "1.2.0",
          "state": {
            "_model_module": "@jupyter-widgets/base",
            "_model_module_version": "1.2.0",
            "_model_name": "LayoutModel",
            "_view_count": null,
            "_view_module": "@jupyter-widgets/base",
            "_view_module_version": "1.2.0",
            "_view_name": "LayoutView",
            "align_content": null,
            "align_items": null,
            "align_self": null,
            "border": null,
            "bottom": null,
            "display": null,
            "flex": null,
            "flex_flow": null,
            "grid_area": null,
            "grid_auto_columns": null,
            "grid_auto_flow": null,
            "grid_auto_rows": null,
            "grid_column": null,
            "grid_gap": null,
            "grid_row": null,
            "grid_template_areas": null,
            "grid_template_columns": null,
            "grid_template_rows": null,
            "height": null,
            "justify_content": null,
            "justify_items": null,
            "left": null,
            "margin": null,
            "max_height": null,
            "max_width": null,
            "min_height": null,
            "min_width": null,
            "object_fit": null,
            "object_position": null,
            "order": null,
            "overflow": null,
            "overflow_x": null,
            "overflow_y": null,
            "padding": null,
            "right": null,
            "top": null,
            "visibility": null,
            "width": null
          }
        },
        "42d7f48a932540bab76deee591977e7d": {
          "model_module": "@jupyter-widgets/controls",
          "model_name": "DescriptionStyleModel",
          "model_module_version": "1.5.0",
          "state": {
            "_model_module": "@jupyter-widgets/controls",
            "_model_module_version": "1.5.0",
            "_model_name": "DescriptionStyleModel",
            "_view_count": null,
            "_view_module": "@jupyter-widgets/base",
            "_view_module_version": "1.2.0",
            "_view_name": "StyleView",
            "description_width": ""
          }
        },
        "40e181012dcf4ad9b93d325f2cab9ae6": {
          "model_module": "@jupyter-widgets/controls",
          "model_name": "HBoxModel",
          "model_module_version": "1.5.0",
          "state": {
            "_dom_classes": [],
            "_model_module": "@jupyter-widgets/controls",
            "_model_module_version": "1.5.0",
            "_model_name": "HBoxModel",
            "_view_count": null,
            "_view_module": "@jupyter-widgets/controls",
            "_view_module_version": "1.5.0",
            "_view_name": "HBoxView",
            "box_style": "",
            "children": [
              "IPY_MODEL_8c24953a740144fdb0c6f53150f5d5d1",
              "IPY_MODEL_bda578a81b6b4bf9a66fa36177fd54f0",
              "IPY_MODEL_74a1bdbe1b8f4a989ecb79b46b395c64"
            ],
            "layout": "IPY_MODEL_8a761797eead42e2a23de1991b1717b6"
          }
        },
        "8c24953a740144fdb0c6f53150f5d5d1": {
          "model_module": "@jupyter-widgets/controls",
          "model_name": "HTMLModel",
          "model_module_version": "1.5.0",
          "state": {
            "_dom_classes": [],
            "_model_module": "@jupyter-widgets/controls",
            "_model_module_version": "1.5.0",
            "_model_name": "HTMLModel",
            "_view_count": null,
            "_view_module": "@jupyter-widgets/controls",
            "_view_module_version": "1.5.0",
            "_view_name": "HTMLView",
            "description": "",
            "description_tooltip": null,
            "layout": "IPY_MODEL_6cf5e5a2696645f7a8cb0bac641c9889",
            "placeholder": "​",
            "style": "IPY_MODEL_681f1e098dd44f74afa93bc738e751c1",
            "value": "Calib ref: 100%"
          }
        },
        "bda578a81b6b4bf9a66fa36177fd54f0": {
          "model_module": "@jupyter-widgets/controls",
          "model_name": "FloatProgressModel",
          "model_module_version": "1.5.0",
          "state": {
            "_dom_classes": [],
            "_model_module": "@jupyter-widgets/controls",
            "_model_module_version": "1.5.0",
            "_model_name": "FloatProgressModel",
            "_view_count": null,
            "_view_module": "@jupyter-widgets/controls",
            "_view_module_version": "1.5.0",
            "_view_name": "ProgressView",
            "bar_style": "",
            "description": "",
            "description_tooltip": null,
            "layout": "IPY_MODEL_36bb91085eae4edb9102a0bd369e94e2",
            "max": 12,
            "min": 0,
            "orientation": "horizontal",
            "style": "IPY_MODEL_96c2dd3aca624fb883c5c04a0bea327c",
            "value": 12
          }
        },
        "74a1bdbe1b8f4a989ecb79b46b395c64": {
          "model_module": "@jupyter-widgets/controls",
          "model_name": "HTMLModel",
          "model_module_version": "1.5.0",
          "state": {
            "_dom_classes": [],
            "_model_module": "@jupyter-widgets/controls",
            "_model_module_version": "1.5.0",
            "_model_name": "HTMLModel",
            "_view_count": null,
            "_view_module": "@jupyter-widgets/controls",
            "_view_module_version": "1.5.0",
            "_view_name": "HTMLView",
            "description": "",
            "description_tooltip": null,
            "layout": "IPY_MODEL_39959c2b14e74995a59e16f57f6dfa12",
            "placeholder": "​",
            "style": "IPY_MODEL_93e7fe4dffcf490587976173e7861fd6",
            "value": " 12/12 [00:07&lt;00:00,  1.75it/s]"
          }
        },
        "8a761797eead42e2a23de1991b1717b6": {
          "model_module": "@jupyter-widgets/base",
          "model_name": "LayoutModel",
          "model_module_version": "1.2.0",
          "state": {
            "_model_module": "@jupyter-widgets/base",
            "_model_module_version": "1.2.0",
            "_model_name": "LayoutModel",
            "_view_count": null,
            "_view_module": "@jupyter-widgets/base",
            "_view_module_version": "1.2.0",
            "_view_name": "LayoutView",
            "align_content": null,
            "align_items": null,
            "align_self": null,
            "border": null,
            "bottom": null,
            "display": null,
            "flex": null,
            "flex_flow": null,
            "grid_area": null,
            "grid_auto_columns": null,
            "grid_auto_flow": null,
            "grid_auto_rows": null,
            "grid_column": null,
            "grid_gap": null,
            "grid_row": null,
            "grid_template_areas": null,
            "grid_template_columns": null,
            "grid_template_rows": null,
            "height": null,
            "justify_content": null,
            "justify_items": null,
            "left": null,
            "margin": null,
            "max_height": null,
            "max_width": null,
            "min_height": null,
            "min_width": null,
            "object_fit": null,
            "object_position": null,
            "order": null,
            "overflow": null,
            "overflow_x": null,
            "overflow_y": null,
            "padding": null,
            "right": null,
            "top": null,
            "visibility": "hidden",
            "width": null
          }
        },
        "6cf5e5a2696645f7a8cb0bac641c9889": {
          "model_module": "@jupyter-widgets/base",
          "model_name": "LayoutModel",
          "model_module_version": "1.2.0",
          "state": {
            "_model_module": "@jupyter-widgets/base",
            "_model_module_version": "1.2.0",
            "_model_name": "LayoutModel",
            "_view_count": null,
            "_view_module": "@jupyter-widgets/base",
            "_view_module_version": "1.2.0",
            "_view_name": "LayoutView",
            "align_content": null,
            "align_items": null,
            "align_self": null,
            "border": null,
            "bottom": null,
            "display": null,
            "flex": null,
            "flex_flow": null,
            "grid_area": null,
            "grid_auto_columns": null,
            "grid_auto_flow": null,
            "grid_auto_rows": null,
            "grid_column": null,
            "grid_gap": null,
            "grid_row": null,
            "grid_template_areas": null,
            "grid_template_columns": null,
            "grid_template_rows": null,
            "height": null,
            "justify_content": null,
            "justify_items": null,
            "left": null,
            "margin": null,
            "max_height": null,
            "max_width": null,
            "min_height": null,
            "min_width": null,
            "object_fit": null,
            "object_position": null,
            "order": null,
            "overflow": null,
            "overflow_x": null,
            "overflow_y": null,
            "padding": null,
            "right": null,
            "top": null,
            "visibility": null,
            "width": null
          }
        },
        "681f1e098dd44f74afa93bc738e751c1": {
          "model_module": "@jupyter-widgets/controls",
          "model_name": "DescriptionStyleModel",
          "model_module_version": "1.5.0",
          "state": {
            "_model_module": "@jupyter-widgets/controls",
            "_model_module_version": "1.5.0",
            "_model_name": "DescriptionStyleModel",
            "_view_count": null,
            "_view_module": "@jupyter-widgets/base",
            "_view_module_version": "1.2.0",
            "_view_name": "StyleView",
            "description_width": ""
          }
        },
        "36bb91085eae4edb9102a0bd369e94e2": {
          "model_module": "@jupyter-widgets/base",
          "model_name": "LayoutModel",
          "model_module_version": "1.2.0",
          "state": {
            "_model_module": "@jupyter-widgets/base",
            "_model_module_version": "1.2.0",
            "_model_name": "LayoutModel",
            "_view_count": null,
            "_view_module": "@jupyter-widgets/base",
            "_view_module_version": "1.2.0",
            "_view_name": "LayoutView",
            "align_content": null,
            "align_items": null,
            "align_self": null,
            "border": null,
            "bottom": null,
            "display": null,
            "flex": null,
            "flex_flow": null,
            "grid_area": null,
            "grid_auto_columns": null,
            "grid_auto_flow": null,
            "grid_auto_rows": null,
            "grid_column": null,
            "grid_gap": null,
            "grid_row": null,
            "grid_template_areas": null,
            "grid_template_columns": null,
            "grid_template_rows": null,
            "height": null,
            "justify_content": null,
            "justify_items": null,
            "left": null,
            "margin": null,
            "max_height": null,
            "max_width": null,
            "min_height": null,
            "min_width": null,
            "object_fit": null,
            "object_position": null,
            "order": null,
            "overflow": null,
            "overflow_x": null,
            "overflow_y": null,
            "padding": null,
            "right": null,
            "top": null,
            "visibility": null,
            "width": null
          }
        },
        "96c2dd3aca624fb883c5c04a0bea327c": {
          "model_module": "@jupyter-widgets/controls",
          "model_name": "ProgressStyleModel",
          "model_module_version": "1.5.0",
          "state": {
            "_model_module": "@jupyter-widgets/controls",
            "_model_module_version": "1.5.0",
            "_model_name": "ProgressStyleModel",
            "_view_count": null,
            "_view_module": "@jupyter-widgets/base",
            "_view_module_version": "1.2.0",
            "_view_name": "StyleView",
            "bar_color": null,
            "description_width": ""
          }
        },
        "39959c2b14e74995a59e16f57f6dfa12": {
          "model_module": "@jupyter-widgets/base",
          "model_name": "LayoutModel",
          "model_module_version": "1.2.0",
          "state": {
            "_model_module": "@jupyter-widgets/base",
            "_model_module_version": "1.2.0",
            "_model_name": "LayoutModel",
            "_view_count": null,
            "_view_module": "@jupyter-widgets/base",
            "_view_module_version": "1.2.0",
            "_view_name": "LayoutView",
            "align_content": null,
            "align_items": null,
            "align_self": null,
            "border": null,
            "bottom": null,
            "display": null,
            "flex": null,
            "flex_flow": null,
            "grid_area": null,
            "grid_auto_columns": null,
            "grid_auto_flow": null,
            "grid_auto_rows": null,
            "grid_column": null,
            "grid_gap": null,
            "grid_row": null,
            "grid_template_areas": null,
            "grid_template_columns": null,
            "grid_template_rows": null,
            "height": null,
            "justify_content": null,
            "justify_items": null,
            "left": null,
            "margin": null,
            "max_height": null,
            "max_width": null,
            "min_height": null,
            "min_width": null,
            "object_fit": null,
            "object_position": null,
            "order": null,
            "overflow": null,
            "overflow_x": null,
            "overflow_y": null,
            "padding": null,
            "right": null,
            "top": null,
            "visibility": null,
            "width": null
          }
        },
        "93e7fe4dffcf490587976173e7861fd6": {
          "model_module": "@jupyter-widgets/controls",
          "model_name": "DescriptionStyleModel",
          "model_module_version": "1.5.0",
          "state": {
            "_model_module": "@jupyter-widgets/controls",
            "_model_module_version": "1.5.0",
            "_model_name": "DescriptionStyleModel",
            "_view_count": null,
            "_view_module": "@jupyter-widgets/base",
            "_view_module_version": "1.2.0",
            "_view_name": "StyleView",
            "description_width": ""
          }
        },
        "6e0e2c5222fc4b888b205e97cb6580c6": {
          "model_module": "@jupyter-widgets/controls",
          "model_name": "HBoxModel",
          "model_module_version": "1.5.0",
          "state": {
            "_dom_classes": [],
            "_model_module": "@jupyter-widgets/controls",
            "_model_module_version": "1.5.0",
            "_model_name": "HBoxModel",
            "_view_count": null,
            "_view_module": "@jupyter-widgets/controls",
            "_view_module_version": "1.5.0",
            "_view_name": "HBoxView",
            "box_style": "",
            "children": [
              "IPY_MODEL_46cc5e853d8d493487a4a372e44a516c",
              "IPY_MODEL_2eed406c1e4b493d940192d4667677dc",
              "IPY_MODEL_43862f0dd613481ba4426eebfea27ea3"
            ],
            "layout": "IPY_MODEL_432433b4a10e48fba2b2c6942a38075f"
          }
        },
        "46cc5e853d8d493487a4a372e44a516c": {
          "model_module": "@jupyter-widgets/controls",
          "model_name": "HTMLModel",
          "model_module_version": "1.5.0",
          "state": {
            "_dom_classes": [],
            "_model_module": "@jupyter-widgets/controls",
            "_model_module_version": "1.5.0",
            "_model_name": "HTMLModel",
            "_view_count": null,
            "_view_module": "@jupyter-widgets/controls",
            "_view_module_version": "1.5.0",
            "_view_name": "HTMLView",
            "description": "",
            "description_tooltip": null,
            "layout": "IPY_MODEL_fa891fd9e93f4999beb18aa3d3fc844a",
            "placeholder": "​",
            "style": "IPY_MODEL_def8e4bd0493474b9e11c8c183b5444b",
            "value": "Calib new: 100%"
          }
        },
        "2eed406c1e4b493d940192d4667677dc": {
          "model_module": "@jupyter-widgets/controls",
          "model_name": "FloatProgressModel",
          "model_module_version": "1.5.0",
          "state": {
            "_dom_classes": [],
            "_model_module": "@jupyter-widgets/controls",
            "_model_module_version": "1.5.0",
            "_model_name": "FloatProgressModel",
            "_view_count": null,
            "_view_module": "@jupyter-widgets/controls",
            "_view_module_version": "1.5.0",
            "_view_name": "ProgressView",
            "bar_style": "",
            "description": "",
            "description_tooltip": null,
            "layout": "IPY_MODEL_cb12625d09b6427991175d278453119e",
            "max": 12,
            "min": 0,
            "orientation": "horizontal",
            "style": "IPY_MODEL_08a91e65944b49f098a6bd3a6baf721c",
            "value": 12
          }
        },
        "43862f0dd613481ba4426eebfea27ea3": {
          "model_module": "@jupyter-widgets/controls",
          "model_name": "HTMLModel",
          "model_module_version": "1.5.0",
          "state": {
            "_dom_classes": [],
            "_model_module": "@jupyter-widgets/controls",
            "_model_module_version": "1.5.0",
            "_model_name": "HTMLModel",
            "_view_count": null,
            "_view_module": "@jupyter-widgets/controls",
            "_view_module_version": "1.5.0",
            "_view_name": "HTMLView",
            "description": "",
            "description_tooltip": null,
            "layout": "IPY_MODEL_820ce7092fe34823b1013ca48dc971c6",
            "placeholder": "​",
            "style": "IPY_MODEL_923434687ea346228b9fb49a9d204891",
            "value": " 12/12 [00:08&lt;00:00,  1.70it/s]"
          }
        },
        "432433b4a10e48fba2b2c6942a38075f": {
          "model_module": "@jupyter-widgets/base",
          "model_name": "LayoutModel",
          "model_module_version": "1.2.0",
          "state": {
            "_model_module": "@jupyter-widgets/base",
            "_model_module_version": "1.2.0",
            "_model_name": "LayoutModel",
            "_view_count": null,
            "_view_module": "@jupyter-widgets/base",
            "_view_module_version": "1.2.0",
            "_view_name": "LayoutView",
            "align_content": null,
            "align_items": null,
            "align_self": null,
            "border": null,
            "bottom": null,
            "display": null,
            "flex": null,
            "flex_flow": null,
            "grid_area": null,
            "grid_auto_columns": null,
            "grid_auto_flow": null,
            "grid_auto_rows": null,
            "grid_column": null,
            "grid_gap": null,
            "grid_row": null,
            "grid_template_areas": null,
            "grid_template_columns": null,
            "grid_template_rows": null,
            "height": null,
            "justify_content": null,
            "justify_items": null,
            "left": null,
            "margin": null,
            "max_height": null,
            "max_width": null,
            "min_height": null,
            "min_width": null,
            "object_fit": null,
            "object_position": null,
            "order": null,
            "overflow": null,
            "overflow_x": null,
            "overflow_y": null,
            "padding": null,
            "right": null,
            "top": null,
            "visibility": "hidden",
            "width": null
          }
        },
        "fa891fd9e93f4999beb18aa3d3fc844a": {
          "model_module": "@jupyter-widgets/base",
          "model_name": "LayoutModel",
          "model_module_version": "1.2.0",
          "state": {
            "_model_module": "@jupyter-widgets/base",
            "_model_module_version": "1.2.0",
            "_model_name": "LayoutModel",
            "_view_count": null,
            "_view_module": "@jupyter-widgets/base",
            "_view_module_version": "1.2.0",
            "_view_name": "LayoutView",
            "align_content": null,
            "align_items": null,
            "align_self": null,
            "border": null,
            "bottom": null,
            "display": null,
            "flex": null,
            "flex_flow": null,
            "grid_area": null,
            "grid_auto_columns": null,
            "grid_auto_flow": null,
            "grid_auto_rows": null,
            "grid_column": null,
            "grid_gap": null,
            "grid_row": null,
            "grid_template_areas": null,
            "grid_template_columns": null,
            "grid_template_rows": null,
            "height": null,
            "justify_content": null,
            "justify_items": null,
            "left": null,
            "margin": null,
            "max_height": null,
            "max_width": null,
            "min_height": null,
            "min_width": null,
            "object_fit": null,
            "object_position": null,
            "order": null,
            "overflow": null,
            "overflow_x": null,
            "overflow_y": null,
            "padding": null,
            "right": null,
            "top": null,
            "visibility": null,
            "width": null
          }
        },
        "def8e4bd0493474b9e11c8c183b5444b": {
          "model_module": "@jupyter-widgets/controls",
          "model_name": "DescriptionStyleModel",
          "model_module_version": "1.5.0",
          "state": {
            "_model_module": "@jupyter-widgets/controls",
            "_model_module_version": "1.5.0",
            "_model_name": "DescriptionStyleModel",
            "_view_count": null,
            "_view_module": "@jupyter-widgets/base",
            "_view_module_version": "1.2.0",
            "_view_name": "StyleView",
            "description_width": ""
          }
        },
        "cb12625d09b6427991175d278453119e": {
          "model_module": "@jupyter-widgets/base",
          "model_name": "LayoutModel",
          "model_module_version": "1.2.0",
          "state": {
            "_model_module": "@jupyter-widgets/base",
            "_model_module_version": "1.2.0",
            "_model_name": "LayoutModel",
            "_view_count": null,
            "_view_module": "@jupyter-widgets/base",
            "_view_module_version": "1.2.0",
            "_view_name": "LayoutView",
            "align_content": null,
            "align_items": null,
            "align_self": null,
            "border": null,
            "bottom": null,
            "display": null,
            "flex": null,
            "flex_flow": null,
            "grid_area": null,
            "grid_auto_columns": null,
            "grid_auto_flow": null,
            "grid_auto_rows": null,
            "grid_column": null,
            "grid_gap": null,
            "grid_row": null,
            "grid_template_areas": null,
            "grid_template_columns": null,
            "grid_template_rows": null,
            "height": null,
            "justify_content": null,
            "justify_items": null,
            "left": null,
            "margin": null,
            "max_height": null,
            "max_width": null,
            "min_height": null,
            "min_width": null,
            "object_fit": null,
            "object_position": null,
            "order": null,
            "overflow": null,
            "overflow_x": null,
            "overflow_y": null,
            "padding": null,
            "right": null,
            "top": null,
            "visibility": null,
            "width": null
          }
        },
        "08a91e65944b49f098a6bd3a6baf721c": {
          "model_module": "@jupyter-widgets/controls",
          "model_name": "ProgressStyleModel",
          "model_module_version": "1.5.0",
          "state": {
            "_model_module": "@jupyter-widgets/controls",
            "_model_module_version": "1.5.0",
            "_model_name": "ProgressStyleModel",
            "_view_count": null,
            "_view_module": "@jupyter-widgets/base",
            "_view_module_version": "1.2.0",
            "_view_name": "StyleView",
            "bar_color": null,
            "description_width": ""
          }
        },
        "820ce7092fe34823b1013ca48dc971c6": {
          "model_module": "@jupyter-widgets/base",
          "model_name": "LayoutModel",
          "model_module_version": "1.2.0",
          "state": {
            "_model_module": "@jupyter-widgets/base",
            "_model_module_version": "1.2.0",
            "_model_name": "LayoutModel",
            "_view_count": null,
            "_view_module": "@jupyter-widgets/base",
            "_view_module_version": "1.2.0",
            "_view_name": "LayoutView",
            "align_content": null,
            "align_items": null,
            "align_self": null,
            "border": null,
            "bottom": null,
            "display": null,
            "flex": null,
            "flex_flow": null,
            "grid_area": null,
            "grid_auto_columns": null,
            "grid_auto_flow": null,
            "grid_auto_rows": null,
            "grid_column": null,
            "grid_gap": null,
            "grid_row": null,
            "grid_template_areas": null,
            "grid_template_columns": null,
            "grid_template_rows": null,
            "height": null,
            "justify_content": null,
            "justify_items": null,
            "left": null,
            "margin": null,
            "max_height": null,
            "max_width": null,
            "min_height": null,
            "min_width": null,
            "object_fit": null,
            "object_position": null,
            "order": null,
            "overflow": null,
            "overflow_x": null,
            "overflow_y": null,
            "padding": null,
            "right": null,
            "top": null,
            "visibility": null,
            "width": null
          }
        },
        "923434687ea346228b9fb49a9d204891": {
          "model_module": "@jupyter-widgets/controls",
          "model_name": "DescriptionStyleModel",
          "model_module_version": "1.5.0",
          "state": {
            "_model_module": "@jupyter-widgets/controls",
            "_model_module_version": "1.5.0",
            "_model_name": "DescriptionStyleModel",
            "_view_count": null,
            "_view_module": "@jupyter-widgets/base",
            "_view_module_version": "1.2.0",
            "_view_name": "StyleView",
            "description_width": ""
          }
        }
      }
    }
  },
  "nbformat": 4,
  "nbformat_minor": 5
}